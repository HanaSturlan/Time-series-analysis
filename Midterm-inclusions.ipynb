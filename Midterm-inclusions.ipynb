{
 "cells": [
  {
   "cell_type": "markdown",
   "metadata": {},
   "source": [
    "# Learning outcome 4\n",
    "\n",
    "1.       Load dataset X ... \n",
    "\n",
    "2.       Describe dataset (i.e. provide shape, data types and basic descriptive statistics) and scale the data (sklearn.preprocessing.scale). Describe why you scaled your data. \n",
    "\n",
    "3.       Perform Principal Component Analysis on the dataset. How many principal components do you need so that the explained variance score in total would be greater than 80%? \n",
    "\n",
    "# Learning outcome 5 \n",
    "\n",
    "4.       From https://finance.yahoo.com download historical data for quote ? from Jan 01, 2013 – May 9, 2018. Load dataset and using column ‘Date’ set index to Pandas DataFrame that contains your data. (Remember first to convert ‘Date’ to DatetimeIndex. Is there an easier way to set time index?) \n",
    "\n",
    "5. Take column Adj Close and resample it with weekly frequency from Monday using the mean value of the stock price. \n",
    "\n",
    "# Learning outcome 6 \n",
    "\n",
    "6.      Using the same data from LO5 calculate the simple daily percentage change in adjusted closing price (Adj Close), add another column to your data frame that will contain the descriptive variable “UP” or “DOWN” that will reflect positive and negative returns respectfully.  \n",
    "\n",
    "7.     Using only Adj Close column resample all values to the end of the month and forward fill any missing values. Calculate the simple monthly percentage changes and compare that number to the proportion of “UP” movements you found in the previous question.  "
   ]
  },
  {
   "cell_type": "code",
   "execution_count": 1,
   "metadata": {},
   "outputs": [],
   "source": [
    "import numpy as np \n",
    "import pandas as pd\n",
    "import matplotlib as mpl\n",
    "import matplotlib.pyplot as plt\n",
    "import seaborn as sns\n",
    "%matplotlib inline"
   ]
  },
  {
   "cell_type": "markdown",
   "metadata": {},
   "source": [
    "# LO 4"
   ]
  },
  {
   "cell_type": "code",
   "execution_count": 2,
   "metadata": {},
   "outputs": [],
   "source": [
    "data=pd.read_csv('inclusions.csv')"
   ]
  },
  {
   "cell_type": "code",
   "execution_count": 3,
   "metadata": {},
   "outputs": [
    {
     "data": {
      "text/html": [
       "<div>\n",
       "<style scoped>\n",
       "    .dataframe tbody tr th:only-of-type {\n",
       "        vertical-align: middle;\n",
       "    }\n",
       "\n",
       "    .dataframe tbody tr th {\n",
       "        vertical-align: top;\n",
       "    }\n",
       "\n",
       "    .dataframe thead th {\n",
       "        text-align: right;\n",
       "    }\n",
       "</style>\n",
       "<table border=\"1\" class=\"dataframe\">\n",
       "  <thead>\n",
       "    <tr style=\"text-align: right;\">\n",
       "      <th></th>\n",
       "      <th>RI</th>\n",
       "      <th>Na</th>\n",
       "      <th>Mg</th>\n",
       "      <th>Al</th>\n",
       "      <th>Si</th>\n",
       "      <th>K</th>\n",
       "      <th>Ca</th>\n",
       "      <th>Ba</th>\n",
       "      <th>Fe</th>\n",
       "      <th>Type</th>\n",
       "    </tr>\n",
       "  </thead>\n",
       "  <tbody>\n",
       "    <tr>\n",
       "      <th>0</th>\n",
       "      <td>1.52101</td>\n",
       "      <td>13.64</td>\n",
       "      <td>4.49</td>\n",
       "      <td>1.10</td>\n",
       "      <td>71.78</td>\n",
       "      <td>0.06</td>\n",
       "      <td>8.75</td>\n",
       "      <td>0.0</td>\n",
       "      <td>0.0</td>\n",
       "      <td>1</td>\n",
       "    </tr>\n",
       "    <tr>\n",
       "      <th>1</th>\n",
       "      <td>1.51761</td>\n",
       "      <td>13.89</td>\n",
       "      <td>3.60</td>\n",
       "      <td>1.36</td>\n",
       "      <td>72.73</td>\n",
       "      <td>0.48</td>\n",
       "      <td>7.83</td>\n",
       "      <td>0.0</td>\n",
       "      <td>0.0</td>\n",
       "      <td>1</td>\n",
       "    </tr>\n",
       "    <tr>\n",
       "      <th>2</th>\n",
       "      <td>1.51618</td>\n",
       "      <td>13.53</td>\n",
       "      <td>3.55</td>\n",
       "      <td>1.54</td>\n",
       "      <td>72.99</td>\n",
       "      <td>0.39</td>\n",
       "      <td>7.78</td>\n",
       "      <td>0.0</td>\n",
       "      <td>0.0</td>\n",
       "      <td>1</td>\n",
       "    </tr>\n",
       "    <tr>\n",
       "      <th>3</th>\n",
       "      <td>1.51766</td>\n",
       "      <td>13.21</td>\n",
       "      <td>3.69</td>\n",
       "      <td>1.29</td>\n",
       "      <td>72.61</td>\n",
       "      <td>0.57</td>\n",
       "      <td>8.22</td>\n",
       "      <td>0.0</td>\n",
       "      <td>0.0</td>\n",
       "      <td>1</td>\n",
       "    </tr>\n",
       "    <tr>\n",
       "      <th>4</th>\n",
       "      <td>1.51742</td>\n",
       "      <td>13.27</td>\n",
       "      <td>3.62</td>\n",
       "      <td>1.24</td>\n",
       "      <td>73.08</td>\n",
       "      <td>0.55</td>\n",
       "      <td>8.07</td>\n",
       "      <td>0.0</td>\n",
       "      <td>0.0</td>\n",
       "      <td>1</td>\n",
       "    </tr>\n",
       "  </tbody>\n",
       "</table>\n",
       "</div>"
      ],
      "text/plain": [
       "        RI     Na    Mg    Al     Si     K    Ca   Ba   Fe  Type\n",
       "0  1.52101  13.64  4.49  1.10  71.78  0.06  8.75  0.0  0.0     1\n",
       "1  1.51761  13.89  3.60  1.36  72.73  0.48  7.83  0.0  0.0     1\n",
       "2  1.51618  13.53  3.55  1.54  72.99  0.39  7.78  0.0  0.0     1\n",
       "3  1.51766  13.21  3.69  1.29  72.61  0.57  8.22  0.0  0.0     1\n",
       "4  1.51742  13.27  3.62  1.24  73.08  0.55  8.07  0.0  0.0     1"
      ]
     },
     "execution_count": 3,
     "metadata": {},
     "output_type": "execute_result"
    }
   ],
   "source": [
    "data.head()"
   ]
  },
  {
   "cell_type": "code",
   "execution_count": 4,
   "metadata": {},
   "outputs": [
    {
     "data": {
      "text/html": [
       "<div>\n",
       "<style scoped>\n",
       "    .dataframe tbody tr th:only-of-type {\n",
       "        vertical-align: middle;\n",
       "    }\n",
       "\n",
       "    .dataframe tbody tr th {\n",
       "        vertical-align: top;\n",
       "    }\n",
       "\n",
       "    .dataframe thead th {\n",
       "        text-align: right;\n",
       "    }\n",
       "</style>\n",
       "<table border=\"1\" class=\"dataframe\">\n",
       "  <thead>\n",
       "    <tr style=\"text-align: right;\">\n",
       "      <th></th>\n",
       "      <th>RI</th>\n",
       "      <th>Na</th>\n",
       "      <th>Mg</th>\n",
       "      <th>Al</th>\n",
       "      <th>Si</th>\n",
       "      <th>K</th>\n",
       "      <th>Ca</th>\n",
       "      <th>Ba</th>\n",
       "      <th>Fe</th>\n",
       "      <th>Type</th>\n",
       "    </tr>\n",
       "  </thead>\n",
       "  <tbody>\n",
       "    <tr>\n",
       "      <th>count</th>\n",
       "      <td>214.000000</td>\n",
       "      <td>214.000000</td>\n",
       "      <td>214.000000</td>\n",
       "      <td>214.000000</td>\n",
       "      <td>214.000000</td>\n",
       "      <td>214.000000</td>\n",
       "      <td>214.000000</td>\n",
       "      <td>214.000000</td>\n",
       "      <td>214.000000</td>\n",
       "      <td>214.000000</td>\n",
       "    </tr>\n",
       "    <tr>\n",
       "      <th>mean</th>\n",
       "      <td>1.518365</td>\n",
       "      <td>13.407850</td>\n",
       "      <td>2.684533</td>\n",
       "      <td>1.444907</td>\n",
       "      <td>72.650935</td>\n",
       "      <td>0.497056</td>\n",
       "      <td>8.956963</td>\n",
       "      <td>0.175047</td>\n",
       "      <td>0.057009</td>\n",
       "      <td>2.780374</td>\n",
       "    </tr>\n",
       "    <tr>\n",
       "      <th>std</th>\n",
       "      <td>0.003037</td>\n",
       "      <td>0.816604</td>\n",
       "      <td>1.442408</td>\n",
       "      <td>0.499270</td>\n",
       "      <td>0.774546</td>\n",
       "      <td>0.652192</td>\n",
       "      <td>1.423153</td>\n",
       "      <td>0.497219</td>\n",
       "      <td>0.097439</td>\n",
       "      <td>2.103739</td>\n",
       "    </tr>\n",
       "    <tr>\n",
       "      <th>min</th>\n",
       "      <td>1.511150</td>\n",
       "      <td>10.730000</td>\n",
       "      <td>0.000000</td>\n",
       "      <td>0.290000</td>\n",
       "      <td>69.810000</td>\n",
       "      <td>0.000000</td>\n",
       "      <td>5.430000</td>\n",
       "      <td>0.000000</td>\n",
       "      <td>0.000000</td>\n",
       "      <td>1.000000</td>\n",
       "    </tr>\n",
       "    <tr>\n",
       "      <th>25%</th>\n",
       "      <td>1.516523</td>\n",
       "      <td>12.907500</td>\n",
       "      <td>2.115000</td>\n",
       "      <td>1.190000</td>\n",
       "      <td>72.280000</td>\n",
       "      <td>0.122500</td>\n",
       "      <td>8.240000</td>\n",
       "      <td>0.000000</td>\n",
       "      <td>0.000000</td>\n",
       "      <td>1.000000</td>\n",
       "    </tr>\n",
       "    <tr>\n",
       "      <th>50%</th>\n",
       "      <td>1.517680</td>\n",
       "      <td>13.300000</td>\n",
       "      <td>3.480000</td>\n",
       "      <td>1.360000</td>\n",
       "      <td>72.790000</td>\n",
       "      <td>0.555000</td>\n",
       "      <td>8.600000</td>\n",
       "      <td>0.000000</td>\n",
       "      <td>0.000000</td>\n",
       "      <td>2.000000</td>\n",
       "    </tr>\n",
       "    <tr>\n",
       "      <th>75%</th>\n",
       "      <td>1.519157</td>\n",
       "      <td>13.825000</td>\n",
       "      <td>3.600000</td>\n",
       "      <td>1.630000</td>\n",
       "      <td>73.087500</td>\n",
       "      <td>0.610000</td>\n",
       "      <td>9.172500</td>\n",
       "      <td>0.000000</td>\n",
       "      <td>0.100000</td>\n",
       "      <td>3.000000</td>\n",
       "    </tr>\n",
       "    <tr>\n",
       "      <th>max</th>\n",
       "      <td>1.533930</td>\n",
       "      <td>17.380000</td>\n",
       "      <td>4.490000</td>\n",
       "      <td>3.500000</td>\n",
       "      <td>75.410000</td>\n",
       "      <td>6.210000</td>\n",
       "      <td>16.190000</td>\n",
       "      <td>3.150000</td>\n",
       "      <td>0.510000</td>\n",
       "      <td>7.000000</td>\n",
       "    </tr>\n",
       "  </tbody>\n",
       "</table>\n",
       "</div>"
      ],
      "text/plain": [
       "               RI          Na          Mg          Al          Si           K  \\\n",
       "count  214.000000  214.000000  214.000000  214.000000  214.000000  214.000000   \n",
       "mean     1.518365   13.407850    2.684533    1.444907   72.650935    0.497056   \n",
       "std      0.003037    0.816604    1.442408    0.499270    0.774546    0.652192   \n",
       "min      1.511150   10.730000    0.000000    0.290000   69.810000    0.000000   \n",
       "25%      1.516523   12.907500    2.115000    1.190000   72.280000    0.122500   \n",
       "50%      1.517680   13.300000    3.480000    1.360000   72.790000    0.555000   \n",
       "75%      1.519157   13.825000    3.600000    1.630000   73.087500    0.610000   \n",
       "max      1.533930   17.380000    4.490000    3.500000   75.410000    6.210000   \n",
       "\n",
       "               Ca          Ba          Fe        Type  \n",
       "count  214.000000  214.000000  214.000000  214.000000  \n",
       "mean     8.956963    0.175047    0.057009    2.780374  \n",
       "std      1.423153    0.497219    0.097439    2.103739  \n",
       "min      5.430000    0.000000    0.000000    1.000000  \n",
       "25%      8.240000    0.000000    0.000000    1.000000  \n",
       "50%      8.600000    0.000000    0.000000    2.000000  \n",
       "75%      9.172500    0.000000    0.100000    3.000000  \n",
       "max     16.190000    3.150000    0.510000    7.000000  "
      ]
     },
     "execution_count": 4,
     "metadata": {},
     "output_type": "execute_result"
    }
   ],
   "source": [
    "data.describe()"
   ]
  },
  {
   "cell_type": "code",
   "execution_count": 5,
   "metadata": {},
   "outputs": [
    {
     "data": {
      "text/plain": [
       "RI      float64\n",
       "Na      float64\n",
       "Mg      float64\n",
       "Al      float64\n",
       "Si      float64\n",
       "K       float64\n",
       "Ca      float64\n",
       "Ba      float64\n",
       "Fe      float64\n",
       "Type      int64\n",
       "dtype: object"
      ]
     },
     "execution_count": 5,
     "metadata": {},
     "output_type": "execute_result"
    }
   ],
   "source": [
    "data.dtypes"
   ]
  },
  {
   "cell_type": "code",
   "execution_count": 6,
   "metadata": {},
   "outputs": [
    {
     "data": {
      "text/plain": [
       "(214, 10)"
      ]
     },
     "execution_count": 6,
     "metadata": {},
     "output_type": "execute_result"
    }
   ],
   "source": [
    "data.shape"
   ]
  },
  {
   "cell_type": "markdown",
   "metadata": {},
   "source": [
    "# Visualisation"
   ]
  },
  {
   "cell_type": "code",
   "execution_count": 23,
   "metadata": {},
   "outputs": [
    {
     "data": {
      "text/plain": [
       "<matplotlib.collections.PathCollection at 0x2ba9a33ee80>"
      ]
     },
     "execution_count": 23,
     "metadata": {},
     "output_type": "execute_result"
    },
    {
     "data": {
      "image/png": "[encoded data removed]",
      "text/plain": [
       "<Figure size 432x288 with 1 Axes>"
      ]
     },
     "metadata": {
      "needs_background": "light"
     },
     "output_type": "display_data"
    }
   ],
   "source": [
    "plt.scatter(data.Na,data.Type)"
   ]
  },
  {
   "cell_type": "code",
   "execution_count": 10,
   "metadata": {},
   "outputs": [
    {
     "data": {
      "text/plain": [
       "<matplotlib.axes._subplots.AxesSubplot at 0x2ba99e0a198>"
      ]
     },
     "execution_count": 10,
     "metadata": {},
     "output_type": "execute_result"
    },
    {
     "data": {
      "image/png": "[encoded data removed]",
      "text/plain": [
       "<Figure size 720x720 with 1 Axes>"
      ]
     },
     "metadata": {
      "needs_background": "light"
     },
     "output_type": "display_data"
    }
   ],
   "source": [
    "plt.figure(figsize=(10,10))\n",
    "sns.boxplot(x=data.Type, y=data.RI)"
   ]
  },
  {
   "cell_type": "code",
   "execution_count": 24,
   "metadata": {},
   "outputs": [
    {
     "data": {
      "text/plain": [
       "<matplotlib.axes._subplots.AxesSubplot at 0x2ba9a37d748>"
      ]
     },
     "execution_count": 24,
     "metadata": {},
     "output_type": "execute_result"
    },
    {
     "data": {
      "image/png": "[encoded data removed]",
      "text/plain": [
       "<Figure size 720x720 with 1 Axes>"
      ]
     },
     "metadata": {
      "needs_background": "light"
     },
     "output_type": "display_data"
    }
   ],
   "source": [
    "plt.figure(figsize=(10,10))\n",
    "sns.boxplot(x=data.Type, y=data.Na)"
   ]
  },
  {
   "cell_type": "code",
   "execution_count": 13,
   "metadata": {},
   "outputs": [
    {
     "data": {
      "text/plain": [
       "Index(['RI', 'Na', 'Mg', 'Al', 'Si', 'K', 'Ca', 'Ba', 'Fe', 'Type'], dtype='object')"
      ]
     },
     "execution_count": 13,
     "metadata": {},
     "output_type": "execute_result"
    }
   ],
   "source": [
    "data.columns"
   ]
  },
  {
   "cell_type": "code",
   "execution_count": 14,
   "metadata": {},
   "outputs": [
    {
     "data": {
      "text/plain": [
       "array([1, 2, 3, 5, 6, 7], dtype=int64)"
      ]
     },
     "execution_count": 14,
     "metadata": {},
     "output_type": "execute_result"
    }
   ],
   "source": [
    "data.Type.unique()"
   ]
  },
  {
   "cell_type": "code",
   "execution_count": 15,
   "metadata": {},
   "outputs": [
    {
     "data": {
      "text/plain": [
       "<matplotlib.axes._subplots.AxesSubplot at 0x2ba99ed3f98>"
      ]
     },
     "execution_count": 15,
     "metadata": {},
     "output_type": "execute_result"
    },
    {
     "data": {
      "image/png": "[encoded data removed]",
      "text/plain": [
       "<Figure size 432x288 with 1 Axes>"
      ]
     },
     "metadata": {
      "needs_background": "light"
     },
     "output_type": "display_data"
    }
   ],
   "source": [
    "data.Type.value_counts().plot.bar()"
   ]
  },
  {
   "cell_type": "markdown",
   "metadata": {},
   "source": [
    "We can use label encoder to transform categorical data to numerical."
   ]
  },
  {
   "cell_type": "code",
   "execution_count": 16,
   "metadata": {},
   "outputs": [
    {
     "data": {
      "text/html": [
       "<div>\n",
       "<style scoped>\n",
       "    .dataframe tbody tr th:only-of-type {\n",
       "        vertical-align: middle;\n",
       "    }\n",
       "\n",
       "    .dataframe tbody tr th {\n",
       "        vertical-align: top;\n",
       "    }\n",
       "\n",
       "    .dataframe thead th {\n",
       "        text-align: right;\n",
       "    }\n",
       "</style>\n",
       "<table border=\"1\" class=\"dataframe\">\n",
       "  <thead>\n",
       "    <tr style=\"text-align: right;\">\n",
       "      <th></th>\n",
       "      <th>RI</th>\n",
       "      <th>Na</th>\n",
       "      <th>Mg</th>\n",
       "      <th>Al</th>\n",
       "      <th>Si</th>\n",
       "      <th>K</th>\n",
       "      <th>Ca</th>\n",
       "      <th>Ba</th>\n",
       "      <th>Fe</th>\n",
       "      <th>Type</th>\n",
       "    </tr>\n",
       "  </thead>\n",
       "  <tbody>\n",
       "    <tr>\n",
       "      <th>0</th>\n",
       "      <td>1.52101</td>\n",
       "      <td>13.64</td>\n",
       "      <td>4.49</td>\n",
       "      <td>1.10</td>\n",
       "      <td>71.78</td>\n",
       "      <td>0.06</td>\n",
       "      <td>8.75</td>\n",
       "      <td>0.0</td>\n",
       "      <td>0.0</td>\n",
       "      <td>1</td>\n",
       "    </tr>\n",
       "    <tr>\n",
       "      <th>1</th>\n",
       "      <td>1.51761</td>\n",
       "      <td>13.89</td>\n",
       "      <td>3.60</td>\n",
       "      <td>1.36</td>\n",
       "      <td>72.73</td>\n",
       "      <td>0.48</td>\n",
       "      <td>7.83</td>\n",
       "      <td>0.0</td>\n",
       "      <td>0.0</td>\n",
       "      <td>1</td>\n",
       "    </tr>\n",
       "    <tr>\n",
       "      <th>2</th>\n",
       "      <td>1.51618</td>\n",
       "      <td>13.53</td>\n",
       "      <td>3.55</td>\n",
       "      <td>1.54</td>\n",
       "      <td>72.99</td>\n",
       "      <td>0.39</td>\n",
       "      <td>7.78</td>\n",
       "      <td>0.0</td>\n",
       "      <td>0.0</td>\n",
       "      <td>1</td>\n",
       "    </tr>\n",
       "    <tr>\n",
       "      <th>3</th>\n",
       "      <td>1.51766</td>\n",
       "      <td>13.21</td>\n",
       "      <td>3.69</td>\n",
       "      <td>1.29</td>\n",
       "      <td>72.61</td>\n",
       "      <td>0.57</td>\n",
       "      <td>8.22</td>\n",
       "      <td>0.0</td>\n",
       "      <td>0.0</td>\n",
       "      <td>1</td>\n",
       "    </tr>\n",
       "    <tr>\n",
       "      <th>4</th>\n",
       "      <td>1.51742</td>\n",
       "      <td>13.27</td>\n",
       "      <td>3.62</td>\n",
       "      <td>1.24</td>\n",
       "      <td>73.08</td>\n",
       "      <td>0.55</td>\n",
       "      <td>8.07</td>\n",
       "      <td>0.0</td>\n",
       "      <td>0.0</td>\n",
       "      <td>1</td>\n",
       "    </tr>\n",
       "  </tbody>\n",
       "</table>\n",
       "</div>"
      ],
      "text/plain": [
       "        RI     Na    Mg    Al     Si     K    Ca   Ba   Fe  Type\n",
       "0  1.52101  13.64  4.49  1.10  71.78  0.06  8.75  0.0  0.0     1\n",
       "1  1.51761  13.89  3.60  1.36  72.73  0.48  7.83  0.0  0.0     1\n",
       "2  1.51618  13.53  3.55  1.54  72.99  0.39  7.78  0.0  0.0     1\n",
       "3  1.51766  13.21  3.69  1.29  72.61  0.57  8.22  0.0  0.0     1\n",
       "4  1.51742  13.27  3.62  1.24  73.08  0.55  8.07  0.0  0.0     1"
      ]
     },
     "execution_count": 16,
     "metadata": {},
     "output_type": "execute_result"
    }
   ],
   "source": [
    "data.head()"
   ]
  },
  {
   "cell_type": "code",
   "execution_count": 25,
   "metadata": {},
   "outputs": [],
   "source": [
    "X=data.drop(columns='Type')\n",
    "y=data.Type"
   ]
  },
  {
   "cell_type": "code",
   "execution_count": 26,
   "metadata": {},
   "outputs": [],
   "source": [
    "from sklearn.preprocessing import StandardScaler"
   ]
  },
  {
   "cell_type": "markdown",
   "metadata": {},
   "source": [
    "Standardization refers to shifting the distribution of each attribute to have a mean of zero and a standard deviation of one (unit variance). It is useful to standardize attributes for a model. Standardization of datasets is a common requirement for many machine learning estimators implemented in scikit-learn; they might behave badly if the individual features do not more or less look like standard normally distributed data"
   ]
  },
  {
   "cell_type": "code",
   "execution_count": 27,
   "metadata": {},
   "outputs": [],
   "source": [
    "X_std=StandardScaler().fit_transform(X)"
   ]
  },
  {
   "cell_type": "code",
   "execution_count": 32,
   "metadata": {},
   "outputs": [],
   "source": [
    "X_std=pd.DataFrame(X_std)"
   ]
  },
  {
   "cell_type": "code",
   "execution_count": 33,
   "metadata": {},
   "outputs": [],
   "source": [
    "X_std.columns=X.columns"
   ]
  },
  {
   "cell_type": "code",
   "execution_count": 39,
   "metadata": {},
   "outputs": [
    {
     "data": {
      "text/html": [
       "<div>\n",
       "<style scoped>\n",
       "    .dataframe tbody tr th:only-of-type {\n",
       "        vertical-align: middle;\n",
       "    }\n",
       "\n",
       "    .dataframe tbody tr th {\n",
       "        vertical-align: top;\n",
       "    }\n",
       "\n",
       "    .dataframe thead th {\n",
       "        text-align: right;\n",
       "    }\n",
       "</style>\n",
       "<table border=\"1\" class=\"dataframe\">\n",
       "  <thead>\n",
       "    <tr style=\"text-align: right;\">\n",
       "      <th></th>\n",
       "      <th>RI</th>\n",
       "      <th>Na</th>\n",
       "      <th>Mg</th>\n",
       "      <th>Al</th>\n",
       "      <th>Si</th>\n",
       "      <th>K</th>\n",
       "      <th>Ca</th>\n",
       "      <th>Ba</th>\n",
       "      <th>Fe</th>\n",
       "    </tr>\n",
       "  </thead>\n",
       "  <tbody>\n",
       "    <tr>\n",
       "      <th>0</th>\n",
       "      <td>0.872868</td>\n",
       "      <td>0.284953</td>\n",
       "      <td>1.254639</td>\n",
       "      <td>-0.692442</td>\n",
       "      <td>-1.127082</td>\n",
       "      <td>-0.671705</td>\n",
       "      <td>-0.145766</td>\n",
       "      <td>-0.352877</td>\n",
       "      <td>-0.586451</td>\n",
       "    </tr>\n",
       "    <tr>\n",
       "      <th>1</th>\n",
       "      <td>-0.249333</td>\n",
       "      <td>0.591817</td>\n",
       "      <td>0.636168</td>\n",
       "      <td>-0.170460</td>\n",
       "      <td>0.102319</td>\n",
       "      <td>-0.026213</td>\n",
       "      <td>-0.793734</td>\n",
       "      <td>-0.352877</td>\n",
       "      <td>-0.586451</td>\n",
       "    </tr>\n",
       "    <tr>\n",
       "      <th>2</th>\n",
       "      <td>-0.721318</td>\n",
       "      <td>0.149933</td>\n",
       "      <td>0.601422</td>\n",
       "      <td>0.190912</td>\n",
       "      <td>0.438787</td>\n",
       "      <td>-0.164533</td>\n",
       "      <td>-0.828949</td>\n",
       "      <td>-0.352877</td>\n",
       "      <td>-0.586451</td>\n",
       "    </tr>\n",
       "    <tr>\n",
       "      <th>3</th>\n",
       "      <td>-0.232831</td>\n",
       "      <td>-0.242853</td>\n",
       "      <td>0.698710</td>\n",
       "      <td>-0.310994</td>\n",
       "      <td>-0.052974</td>\n",
       "      <td>0.112107</td>\n",
       "      <td>-0.519052</td>\n",
       "      <td>-0.352877</td>\n",
       "      <td>-0.586451</td>\n",
       "    </tr>\n",
       "    <tr>\n",
       "      <th>4</th>\n",
       "      <td>-0.312045</td>\n",
       "      <td>-0.169205</td>\n",
       "      <td>0.650066</td>\n",
       "      <td>-0.411375</td>\n",
       "      <td>0.555256</td>\n",
       "      <td>0.081369</td>\n",
       "      <td>-0.624699</td>\n",
       "      <td>-0.352877</td>\n",
       "      <td>-0.586451</td>\n",
       "    </tr>\n",
       "  </tbody>\n",
       "</table>\n",
       "</div>"
      ],
      "text/plain": [
       "         RI        Na        Mg        Al        Si         K        Ca  \\\n",
       "0  0.872868  0.284953  1.254639 -0.692442 -1.127082 -0.671705 -0.145766   \n",
       "1 -0.249333  0.591817  0.636168 -0.170460  0.102319 -0.026213 -0.793734   \n",
       "2 -0.721318  0.149933  0.601422  0.190912  0.438787 -0.164533 -0.828949   \n",
       "3 -0.232831 -0.242853  0.698710 -0.310994 -0.052974  0.112107 -0.519052   \n",
       "4 -0.312045 -0.169205  0.650066 -0.411375  0.555256  0.081369 -0.624699   \n",
       "\n",
       "         Ba        Fe  \n",
       "0 -0.352877 -0.586451  \n",
       "1 -0.352877 -0.586451  \n",
       "2 -0.352877 -0.586451  \n",
       "3 -0.352877 -0.586451  \n",
       "4 -0.352877 -0.586451  "
      ]
     },
     "execution_count": 39,
     "metadata": {},
     "output_type": "execute_result"
    }
   ],
   "source": [
    "X_std.head()"
   ]
  },
  {
   "cell_type": "code",
   "execution_count": 40,
   "metadata": {},
   "outputs": [
    {
     "data": {
      "text/plain": [
       "(array([  6.,   9., 109.,  47.,  28.,   7.,   3.,   3.,   1.,   1.]),\n",
       " array([1.51115 , 1.513428, 1.515706, 1.517984, 1.520262, 1.52254 ,\n",
       "        1.524818, 1.527096, 1.529374, 1.531652, 1.53393 ]),\n",
       " <a list of 10 Patch objects>)"
      ]
     },
     "execution_count": 40,
     "metadata": {},
     "output_type": "execute_result"
    },
    {
     "data": {
      "image/png": "[encoded data removed]",
      "text/plain": [
       "<Figure size 432x288 with 1 Axes>"
      ]
     },
     "metadata": {
      "needs_background": "light"
     },
     "output_type": "display_data"
    }
   ],
   "source": [
    "plt.hist(X.RI)"
   ]
  },
  {
   "cell_type": "code",
   "execution_count": 41,
   "metadata": {},
   "outputs": [
    {
     "data": {
      "text/plain": [
       "(array([  6.,   9., 109.,  47.,  28.,   7.,   3.,   3.,   1.,   1.]),\n",
       " array([-2.38151559, -1.62964084, -0.87776609, -0.12589135,  0.6259834 ,\n",
       "         1.37785815,  2.12973289,  2.88160764,  3.63348239,  4.38535714,\n",
       "         5.13723188]),\n",
       " <a list of 10 Patch objects>)"
      ]
     },
     "execution_count": 41,
     "metadata": {},
     "output_type": "execute_result"
    },
    {
     "data": {
      "image/png": "[encoded data removed]",
      "text/plain": [
       "<Figure size 432x288 with 1 Axes>"
      ]
     },
     "metadata": {
      "needs_background": "light"
     },
     "output_type": "display_data"
    }
   ],
   "source": [
    "plt.hist(X_std.RI)"
   ]
  },
  {
   "cell_type": "code",
   "execution_count": 42,
   "metadata": {},
   "outputs": [],
   "source": [
    "# we can recognize outliers!!"
   ]
  },
  {
   "cell_type": "code",
   "execution_count": 45,
   "metadata": {},
   "outputs": [
    {
     "data": {
      "image/png": "[encoded data removed]",
      "text/plain": [
       "<Figure size 432x288 with 1 Axes>"
      ]
     },
     "metadata": {
      "needs_background": "light"
     },
     "output_type": "display_data"
    },
    {
     "data": {
      "image/png": "[encoded data removed]",
      "text/plain": [
       "<Figure size 432x288 with 1 Axes>"
      ]
     },
     "metadata": {
      "needs_background": "light"
     },
     "output_type": "display_data"
    },
    {
     "data": {
      "image/png": "[encoded data removed]",
      "text/plain": [
       "<Figure size 432x288 with 1 Axes>"
      ]
     },
     "metadata": {
      "needs_background": "light"
     },
     "output_type": "display_data"
    },
    {
     "data": {
      "image/png": "[encoded data removed]",
      "text/plain": [
       "<Figure size 432x288 with 1 Axes>"
      ]
     },
     "metadata": {
      "needs_background": "light"
     },
     "output_type": "display_data"
    },
    {
     "data": {
      "image/png": "[encoded data removed]",
      "text/plain": [
       "<Figure size 432x288 with 1 Axes>"
      ]
     },
     "metadata": {
      "needs_background": "light"
     },
     "output_type": "display_data"
    },
    {
     "data": {
      "image/png": "[encoded data removed]",
      "text/plain": [
       "<Figure size 432x288 with 1 Axes>"
      ]
     },
     "metadata": {
      "needs_background": "light"
     },
     "output_type": "display_data"
    },
    {
     "data": {
      "image/png": "[encoded data removed]",
      "text/plain": [
       "<Figure size 432x288 with 1 Axes>"
      ]
     },
     "metadata": {
      "needs_background": "light"
     },
     "output_type": "display_data"
    },
    {
     "data": {
      "image/png": "[encoded data removed]",
      "text/plain": [
       "<Figure size 432x288 with 1 Axes>"
      ]
     },
     "metadata": {
      "needs_background": "light"
     },
     "output_type": "display_data"
    },
    {
     "data": {
      "image/png": "[encoded data removed]",
      "text/plain": [
       "<Figure size 432x288 with 1 Axes>"
      ]
     },
     "metadata": {
      "needs_background": "light"
     },
     "output_type": "display_data"
    }
   ],
   "source": [
    "for col in X_std.columns:\n",
    "    hist=plt.hist(X_std[col])\n",
    "    plt.title(col)\n",
    "    plt.show()"
   ]
  },
  {
   "cell_type": "code",
   "execution_count": 46,
   "metadata": {},
   "outputs": [],
   "source": [
    "# we can now easily detect outliers!"
   ]
  },
  {
   "cell_type": "code",
   "execution_count": 47,
   "metadata": {},
   "outputs": [],
   "source": [
    "from sklearn.decomposition import PCA"
   ]
  },
  {
   "cell_type": "code",
   "execution_count": 53,
   "metadata": {},
   "outputs": [
    {
     "data": {
      "text/plain": [
       "Text(0, 0.5, 'Cumulative explained variance')"
      ]
     },
     "execution_count": 53,
     "metadata": {},
     "output_type": "execute_result"
    },
    {
     "data": {
      "image/png": "[encoded data removed]",
      "text/plain": [
       "<Figure size 432x288 with 1 Axes>"
      ]
     },
     "metadata": {
      "needs_background": "light"
     },
     "output_type": "display_data"
    }
   ],
   "source": [
    "pca = PCA().fit(X_std)\n",
    "plt.plot(np.cumsum(pca.explained_variance_ratio_))\n",
    "plt.xlim(0,7,1)\n",
    "plt.xlabel('Number of components')\n",
    "plt.ylabel('Cumulative explained variance')"
   ]
  },
  {
   "cell_type": "markdown",
   "metadata": {},
   "source": [
    "* How many principal components do you need so that the explained variance score in total would be greater than 80%? "
   ]
  },
  {
   "cell_type": "code",
   "execution_count": 54,
   "metadata": {},
   "outputs": [
    {
     "data": {
      "text/plain": [
       "array([0.27901819, 0.50680399, 0.66289777, 0.79154915, 0.89310496,\n",
       "       0.95173109, 0.99272647, 0.99982124, 1.        ])"
      ]
     },
     "execution_count": 54,
     "metadata": {},
     "output_type": "execute_result"
    }
   ],
   "source": [
    "np.cumsum(pca.explained_variance_ratio_)"
   ]
  },
  {
   "cell_type": "markdown",
   "metadata": {},
   "source": [
    "I need 4 prinicipal components to have variance score bigger than 80%."
   ]
  },
  {
   "cell_type": "code",
   "execution_count": 55,
   "metadata": {},
   "outputs": [],
   "source": [
    "sklearn_pca = PCA(n_components=4)\n",
    "Y_sklearn = sklearn_pca.fit_transform(X_std)"
   ]
  },
  {
   "cell_type": "code",
   "execution_count": 56,
   "metadata": {},
   "outputs": [
    {
     "name": "stdout",
     "output_type": "stream",
     "text": [
      "[[ 1.15113957e+00 -5.29487638e-01 -3.72095655e-01  1.72890103e+00]\n",
      " [-5.74137172e-01 -7.59787774e-01 -5.56708167e-01  7.60232283e-01]\n",
      " [-9.40159722e-01 -9.29835966e-01 -5.54907439e-01  2.06254310e-01]\n",
      " [-1.42083283e-01 -9.61677440e-01 -1.17124685e-01  4.15724023e-01]\n",
      " [-3.51092291e-01 -1.09124921e+00 -4.85078693e-01  6.91022960e-02]\n",
      " [-2.90266583e-01 -1.32400756e+00  8.68678618e-01 -9.27797404e-01]\n",
      " [-2.52671444e-01 -1.11614958e+00 -5.40637854e-01  8.03281095e-02]\n",
      " [-1.20299466e-01 -1.22184622e+00 -6.24742242e-01 -1.16022079e-01]\n",
      " [-2.08160308e-02 -3.21932609e-01 -1.09059681e-01  1.37167219e+00]\n",
      " [-2.35222894e-03 -1.06581344e+00  1.20855026e-01 -3.76021036e-01]\n",
      " [-3.82514937e-01 -1.38013403e+00  6.89524312e-01 -1.15756065e+00]\n",
      " [-1.33538675e-02 -1.10471913e+00 -1.44800991e-01 -2.41088531e-01]\n",
      " [-3.09724390e-01 -1.42304024e+00  4.86063702e-01 -1.07700794e+00]\n",
      " [ 1.56521013e-01 -1.23592823e+00  1.39706729e-01 -7.71898725e-01]\n",
      " [-8.99566628e-02 -1.18125211e+00 -2.15538949e-01 -6.08702541e-01]\n",
      " [-1.15255023e-01 -1.16028212e+00 -3.34021002e-01 -4.16516263e-01]\n",
      " [ 1.73458320e-01 -1.18243967e+00 -2.04005974e-01 -3.82527629e-01]\n",
      " [ 1.45812372e+00  9.88413780e-02 -4.86885046e-01  2.37022678e+00]\n",
      " [ 5.47316267e-01 -2.95660130e-01 -7.02935509e-01  1.25674466e+00]\n",
      " [-3.08817022e-01 -7.63162157e-01  3.30161117e-01 -1.72194819e-01]\n",
      " [ 2.05673879e-01 -9.99182661e-01  6.36026854e-01 -5.44641287e-01]\n",
      " [ 1.21605345e+00 -4.36896108e-01 -1.65763078e+00  2.12385236e+00]\n",
      " [ 4.11679297e-02 -1.02788338e+00 -9.79515384e-03 -1.23218557e-01]\n",
      " [-1.13206012e-01 -1.02762181e+00 -8.62067446e-02 -3.02140979e-01]\n",
      " [-1.47523366e-01 -9.33767049e-01 -5.18184525e-01  2.45079403e-01]\n",
      " [-5.04865218e-02 -1.04723075e+00 -2.13047999e-01 -1.35764784e-01]\n",
      " [-1.55773980e-01 -7.38149546e-01 -2.88781158e-02  2.73048564e-01]\n",
      " [-2.17093779e-01 -1.03946718e+00 -2.09766368e-01 -2.80907658e-01]\n",
      " [-1.15093633e-01 -1.05293936e+00 -3.86767448e-02 -5.76944356e-01]\n",
      " [-6.58374915e-02 -9.02875839e-01 -1.76362449e-01  3.07493564e-02]\n",
      " [ 2.98261451e-01 -1.16489328e+00  3.24945218e-01 -7.80669892e-01]\n",
      " [-2.22363433e-02 -1.16273745e+00 -4.50219204e-01 -4.46222140e-01]\n",
      " [ 3.96586112e-01 -1.07307343e+00  4.98635741e-01 -7.05723820e-01]\n",
      " [-6.90862734e-02 -1.16390421e+00 -1.74049219e-02 -9.26225157e-01]\n",
      " [ 8.17537725e-02 -9.66019429e-01 -3.65887903e-02 -3.33147594e-01]\n",
      " [-3.88918640e-01 -1.00978004e+00 -3.53885727e-01  1.48738736e-01]\n",
      " [ 2.57422809e-01 -9.89360442e-02  5.13381813e-02  1.44452738e+00]\n",
      " [ 2.70430953e-02 -9.41150868e-01  1.54559156e-02 -3.13703503e-01]\n",
      " [ 1.93311245e+00 -1.42114298e-01 -9.73333066e-01  1.97046630e+00]\n",
      " [ 1.93311245e+00 -1.42114298e-01 -9.73333066e-01  1.97046630e+00]\n",
      " [ 2.13978802e-01 -1.06505169e+00 -2.02840029e-01 -2.93377109e-01]\n",
      " [ 1.73653764e-02 -1.10093167e+00 -2.75272102e-01 -5.18527306e-01]\n",
      " [-9.91042449e-02 -7.46806921e-01 -1.57644418e-01  1.32146357e-01]\n",
      " [ 1.90784649e+00 -1.35146218e-01 -5.15127943e-01  1.58761874e+00]\n",
      " [ 7.55238909e-01 -1.19430193e+00  7.74326515e-01 -1.01133916e+00]\n",
      " [ 4.15149070e-01 -2.93287264e-01  1.98333563e-01  9.84556846e-01]\n",
      " [ 6.04423395e-01 -7.80199849e-01  2.49749336e-01 -1.91123303e-01]\n",
      " [ 2.97136159e+00  4.63140502e-01 -2.61706731e-01  1.84925574e+00]\n",
      " [ 2.07281161e+00 -1.93673881e-01 -3.97312493e-01  9.96272365e-01]\n",
      " [ 3.93111591e-01 -3.40258187e-01  3.87830034e-02  9.42135564e-01]\n",
      " [ 2.72721095e+00 -1.13038577e-01 -2.25927845e-01  1.23299280e+00]\n",
      " [ 7.23068883e-01 -4.74891927e-01  4.24970290e-01  1.64920323e-01]\n",
      " [ 1.06160451e-01 -4.14506038e-01 -4.37375571e-01  2.98248333e-02]\n",
      " [ 1.81361046e-01 -4.09957896e-01 -2.38690787e-01 -1.79906535e-01]\n",
      " [ 1.71804895e-01 -5.10287786e-01 -1.36770796e-01 -4.88125279e-01]\n",
      " [ 4.59256767e-01 -9.72071790e-01  2.81541635e-01 -1.95150244e+00]\n",
      " [-4.23198376e-01 -1.81655603e+00  4.53390593e-01 -1.07168777e+00]\n",
      " [ 1.58405624e-02 -9.57454062e-01 -1.12501762e-01 -1.46129678e-01]\n",
      " [-3.27242420e-01 -1.10236197e+00 -5.32236959e-01  3.33895743e-01]\n",
      " [ 3.73730855e-02 -1.05432062e+00 -5.68982865e-02  1.15579347e-01]\n",
      " [ 4.57306871e-01 -5.51911400e-01 -8.36954582e-01  6.44760052e-01]\n",
      " [ 2.36220840e-01  5.68330203e-01 -1.48114344e-01  1.71875586e+00]\n",
      " [ 1.88483803e+00 -2.96475700e-01  4.90912716e-02  1.14681103e+00]\n",
      " [ 1.90646324e+00  1.85186825e-01 -6.08348526e-01  2.20276739e+00]\n",
      " [ 1.76739012e+00 -2.34851172e-01 -2.22821308e-01  9.90008342e-01]\n",
      " [ 1.20709914e+00 -1.68166022e-02 -4.65091072e-01  1.23532090e+00]\n",
      " [ 2.09535866e+00 -4.27013874e-01  1.32217362e-01  2.43829353e-01]\n",
      " [ 2.06574480e+00 -4.47085324e-01  7.28555575e-02  1.59384030e-01]\n",
      " [ 2.00488480e+00 -3.63498656e-01  1.41928358e-01  3.03402139e-01]\n",
      " [ 2.25195536e+00  2.79739773e-02 -3.26257003e-01  9.35987595e-01]\n",
      " [-1.11062971e+00 -3.60459191e-01 -2.80949048e-01  1.71984371e+00]\n",
      " [ 7.49344065e-01 -8.70094723e-01  9.82660297e-01  5.40257862e-01]\n",
      " [-9.35068761e-01 -1.20394562e+00 -1.47385342e-01 -1.74374812e-01]\n",
      " [-8.81333556e-01 -9.72313068e-01 -1.46278052e-01  1.61882665e-01]\n",
      " [-9.22562290e-01 -1.19692928e+00 -5.54772427e-02 -2.53576722e-01]\n",
      " [-8.78041073e-01 -1.20892921e+00 -1.13437726e-01 -2.61299085e-01]\n",
      " [-6.85088615e-01 -8.41639892e-01  1.26649865e-01  6.22919341e-01]\n",
      " [-6.90359145e-01 -1.06629931e+00  1.70845977e-02 -2.95887843e-02]\n",
      " [-4.62997748e-01 -9.88247287e-01 -4.77988434e-01  2.42118502e-01]\n",
      " [-1.07450035e+00 -9.64788704e-01  3.92823022e-01 -2.87740531e-01]\n",
      " [-1.21369799e+00 -7.79098155e-01  6.38637876e-01 -1.54491061e-01]\n",
      " [-9.09189665e-01 -1.13899985e+00 -3.85960448e-01 -1.51303413e-01]\n",
      " [-5.35657351e-01 -1.06978417e+00 -2.79927472e-01  3.00096469e-01]\n",
      " [-6.51404126e-01 -1.11647242e+00  2.82235072e-01 -2.63193142e-01]\n",
      " [-2.31637606e+00 -5.73982461e-01  5.44148077e-01  9.62380874e-01]\n",
      " [-6.19527617e-01 -8.77061910e-01 -2.84376224e-01  2.69579719e-01]\n",
      " [-8.67763488e-01 -1.07801813e+00 -6.43263555e-01 -2.56555373e-01]\n",
      " [-5.36304118e-01 -9.23478860e-01  2.80046905e-01  1.05744118e-01]\n",
      " [-6.50903533e-01 -1.06424608e+00 -7.62044091e-02 -9.80823348e-02]\n",
      " [-7.55392780e-01 -1.09926663e+00  4.97207681e-01 -9.72175784e-01]\n",
      " [ 9.91658801e-01 -1.02189999e+00  8.28405691e-01 -4.49624138e-02]\n",
      " [-5.62642120e-01 -1.06581042e+00 -3.12089418e-01 -3.41531688e-01]\n",
      " [-3.06796378e-01 -9.64066395e-01 -2.74772499e-01 -8.81772729e-01]\n",
      " [-7.34604026e-01 -9.22386904e-01 -5.39023074e-01 -1.96741101e-01]\n",
      " [-6.55247560e-01 -1.14303255e+00 -8.60052573e-02 -6.77979947e-01]\n",
      " [ 9.46407531e-02 -4.56164629e-01  7.63906013e-02  6.69935487e-01]\n",
      " [ 9.04286720e-01 -8.98187688e-01  5.11568576e-01  7.37291104e-02]\n",
      " [ 6.13895376e-01 -1.40234153e+00  4.59684011e-01 -1.78259974e+00]\n",
      " [-6.54109481e-01 -7.10902736e-01  1.95332324e-01 -8.54948068e-01]\n",
      " [-1.33583022e-01 -4.11998638e-01 -3.07984756e-02 -2.80883103e-01]\n",
      " [-2.26479128e-02 -8.10349081e-01  4.30590063e-01 -1.33857672e+00]\n",
      " [-7.23703277e-02 -5.16663086e-01  4.75272333e-01 -8.93441344e-01]\n",
      " [ 9.83504760e-01 -1.02010847e+00 -4.84344594e-01 -1.73974227e+00]\n",
      " [ 3.85238194e+00  1.34506467e+00  1.69275745e-01  2.35558128e+00]\n",
      " [ 2.35136469e+00  1.14019846e+00  5.66718784e-02  1.68955867e+00]\n",
      " [ 3.33328693e+00  2.02616879e+00  2.77131373e+00 -2.87790145e+00]\n",
      " [ 3.64021336e+00  6.19344465e+00  4.91661375e+00 -5.69125884e-02]\n",
      " [ 7.13869786e+00  4.00443669e+00  2.25914072e+00 -2.58043232e-01]\n",
      " [ 1.69502290e+00  2.07414559e+00 -1.05842173e+00 -3.73091131e-01]\n",
      " [ 7.41593451e-01  7.85341417e-01 -2.52188223e+00 -2.08059026e+00]\n",
      " [ 4.51874493e+00  2.02772563e+00 -2.30412671e-01 -2.89977546e+00]\n",
      " [ 4.87303441e+00  2.11110882e+00 -4.59228364e-02 -2.92913403e+00]\n",
      " [ 4.59649709e+00  2.69944760e+00 -1.62583646e-01 -9.11139986e-01]\n",
      " [ 3.23984511e-01 -9.15170462e-01  2.27171879e-01  3.93560013e-01]\n",
      " [ 2.59209029e-01 -1.01845622e+00  2.49406496e-02  5.90999499e-01]\n",
      " [ 2.86272002e-02 -8.03704365e-01 -8.56687024e-02  8.02932778e-01]\n",
      " [ 1.86714046e-01 -8.88809019e-01  4.05716422e-01  4.69611600e-01]\n",
      " [-8.34974605e-01 -5.23690716e-01  3.66936802e-01  1.07534794e+00]\n",
      " [-6.31138456e-02 -1.09080518e+00  9.49679321e-01 -2.42456793e-01]\n",
      " [-6.88645250e-01 -8.44544670e-01 -3.04761461e-02  6.71623558e-01]\n",
      " [ 9.33354363e-02 -7.97513650e-01  4.12943794e-02  6.25732018e-01]\n",
      " [-3.25952384e-01 -1.16131445e+00  6.81000357e-01 -6.94428949e-01]\n",
      " [-5.72010313e-01 -9.28041764e-01 -1.71158335e-01  1.27152037e-01]\n",
      " [-7.81415457e-01 -6.41887105e-01  1.19268247e-01  4.96427090e-01]\n",
      " [ 7.93041028e-01 -6.04328270e-01 -2.00961513e-01  4.70781639e-01]\n",
      " [ 2.72746438e-01 -7.60850930e-01  6.44314903e-01 -4.89047261e-02]\n",
      " [-1.21350033e-01 -1.06270367e+00 -1.31806741e-01  3.67908087e-04]\n",
      " [ 1.11574391e+00  6.20438569e-01  5.71105285e-01  3.10714401e-01]\n",
      " [ 6.40905488e-01  9.00575079e-01  8.02015572e-01  1.36271823e-02]\n",
      " [ 1.06594039e+00  1.36757767e+00  6.49339961e-01  1.39825604e-01]\n",
      " [ 1.37738839e+00  1.60336370e+00 -2.20867441e-01  1.68540459e-02]\n",
      " [ 3.41894371e+00  3.13489973e+00  6.34596470e-01  5.90279292e-02]\n",
      " [-2.30106379e-03 -1.02447346e+00 -1.97132244e-01  7.92314394e-01]\n",
      " [ 9.43164121e-02 -6.45011377e-01  7.06313010e-01  1.05153862e+00]\n",
      " [-1.20536745e-01 -1.01574215e+00 -3.38176879e-01  4.42003744e-01]\n",
      " [ 6.14443758e-01 -1.09156288e+00  8.71769264e-01 -1.72956410e-03]\n",
      " [ 3.37682286e-01 -1.29110463e+00 -7.68180998e-02 -3.08051649e-01]\n",
      " [-5.41321804e-01 -1.03138006e+00  3.59970968e-02 -1.76216004e-01]\n",
      " [-7.66226327e-01 -1.21918683e+00 -1.34170440e-01 -5.72407678e-01]\n",
      " [-7.74831821e-01 -1.08145439e+00  1.47147103e-02 -3.72397810e-01]\n",
      " [-6.58328771e-01 -7.80730458e-01  1.68657535e-01  3.97303361e-01]\n",
      " [ 4.79061318e-01 -1.00897795e+00  1.46364274e-01 -1.05708369e-01]\n",
      " [-6.25511768e-02 -1.22086276e+00  7.36273207e-01 -8.63625693e-01]\n",
      " [-7.02191754e-01 -7.51136992e-01  3.21325263e-01 -2.49994746e-02]\n",
      " [ 3.02639624e-01 -1.04410159e+00  4.12110386e-01 -8.74696833e-01]\n",
      " [ 9.68425776e-01 -1.14896334e+00  1.13922287e+00 -6.45914205e-01]\n",
      " [ 1.15965177e-01 -7.37970348e-01 -1.00696516e+00  5.42431593e-01]\n",
      " [-4.92429807e-01 -9.56241961e-01 -2.32334171e-01  2.84785257e-01]\n",
      " [-1.66864635e-01 -9.65406470e-01  1.28800387e-01 -2.46658740e-02]\n",
      " [-7.09007624e-02 -1.30120252e+00  2.15923756e-01 -6.35351389e-01]\n",
      " [-3.15800764e-01 -7.53169864e-01  8.01283239e-01 -1.94766243e-01]\n",
      " [ 1.52912927e+00  5.44240128e-02 -7.63233343e-01  2.16672913e+00]\n",
      " [ 5.95438880e-01 -9.54422853e-01 -1.49115892e+00  4.10106784e-01]\n",
      " [-4.47183180e-01 -9.57421674e-01 -3.36251527e-01  3.21242773e-01]\n",
      " [-2.28073900e-03 -9.59297592e-01  8.04996362e-02  2.18327859e-02]\n",
      " [-2.77448819e-01 -1.01028758e+00 -3.81365223e-01 -2.18121130e-01]\n",
      " [-2.62625463e-01 -7.71749068e-01 -3.20846762e-01  3.00023770e-01]\n",
      " [ 1.74711568e+00 -1.83206568e-01 -8.54249633e-01  1.73855223e+00]\n",
      " [-8.19412962e-02 -3.43555681e-01  2.33091199e-01  8.46111082e-01]\n",
      " [ 7.70000955e-02 -2.78969006e-01  6.37934084e-01  6.61971567e-01]\n",
      " [ 1.06061322e-01 -2.83081850e-01  2.76593209e-01  6.06608337e-01]\n",
      " [ 1.21897823e+00 -6.73372800e-01 -3.46954756e-01  1.97586741e-01]\n",
      " [ 2.19327703e+00 -1.60194716e-01  7.74684246e-01  1.37098943e+00]\n",
      " [-4.32287332e+00  2.65385680e+00  3.96249199e+00  3.17893020e+00]\n",
      " [ 2.60337952e-01  5.48033322e-01  5.00163287e-01 -8.76334737e-01]\n",
      " [ 1.80337643e+00  5.28727703e-01  6.94061387e-01 -1.75943939e+00]\n",
      " [ 1.78618611e+00  3.12751888e-01  7.05308832e-01 -2.67067940e+00]\n",
      " [ 6.83776477e-01  1.39728332e+00 -4.45712613e-01 -2.49578586e+00]\n",
      " [-7.95024676e-01  7.94729609e-01  6.97344865e-03 -2.44014035e+00]\n",
      " [ 5.44543846e-01  1.76724509e+00 -1.44292467e-01 -1.49055169e+00]\n",
      " [ 1.92981829e+00  2.49244227e+00  9.14290885e-02 -6.42173421e-01]\n",
      " [-4.38953460e+00 -1.03449577e-01  7.98719331e+00  3.37846925e-01]\n",
      " [-4.43253973e+00 -1.68680125e-01  7.85428220e+00  1.53802152e-01]\n",
      " [ 1.59504215e+00  2.11331608e+00 -1.00520947e-01 -8.63790663e-01]\n",
      " [ 1.01004447e+00  8.84077930e-01  2.68208303e+00 -1.53084386e+00]\n",
      " [ 1.63107556e+00  1.31861732e+00  1.29414606e-01 -2.39278804e+00]\n",
      " [ 2.56498778e-01  6.39225236e-01 -7.18542875e-01  5.16545687e-01]\n",
      " [ 6.54463516e-01  3.42545752e-01 -1.08624108e+00  1.44615935e-01]\n",
      " [-1.99650272e-01  7.40225310e-01 -9.24620651e-01  7.52811983e-01]\n",
      " [-1.44389955e-01  6.39849281e-01 -8.89252368e-01  2.60121321e-01]\n",
      " [-2.32566823e+00 -4.62400329e-01 -2.39110310e+00 -1.15801909e+00]\n",
      " [-2.73475886e-01  1.78882182e+00 -1.15904141e+00  4.47979684e-01]\n",
      " [-6.68969638e-02  2.24369392e+00 -6.70464973e-01 -7.30577595e-01]\n",
      " [ 1.11416397e+00  1.45711253e+00 -2.29979311e+00 -7.26297696e-01]\n",
      " [-3.28279679e+00 -4.17913576e-02 -5.16506917e+00 -1.20595379e-01]\n",
      " [-3.95051181e+00 -7.28506609e-01  1.08742088e+00  7.47060385e-01]\n",
      " [-2.76034579e+00  1.26705494e+00  1.94991637e+00  2.75660909e+00]\n",
      " [ 1.06709874e+00 -7.14334989e-02  5.66430663e-02  8.19581756e-01]\n",
      " [ 5.88963889e-01  1.91167950e+00  1.32892801e+00  2.71322060e+00]\n",
      " [-2.17032226e-02  3.47383505e+00  1.17925459e-01  3.99907193e+00]\n",
      " [-1.38770709e+00  1.08914537e+00 -9.16409505e-01 -1.59095444e-01]\n",
      " [-2.14926480e+00  2.29560843e+00 -8.59771875e-01 -6.26104754e-01]\n",
      " [-2.10698079e+00  2.13071878e+00 -3.77780208e-01 -1.39432924e+00]\n",
      " [-2.08135612e+00  3.07840526e+00 -7.63074568e-01  1.85092213e-02]\n",
      " [-2.16116939e+00  2.89977062e+00 -8.89368354e-01 -3.15761541e-01]\n",
      " [-2.29846438e+00  2.21466938e+00 -4.47945063e-01 -1.23596176e+00]\n",
      " [-2.10499822e+00  2.37404264e+00 -3.41106297e-01 -1.14087040e+00]\n",
      " [-1.95865705e+00  2.46318823e+00 -1.03998030e+00 -4.62932676e-01]\n",
      " [-2.39038043e+00  2.40058515e+00 -5.88991180e-01 -7.20615941e-01]\n",
      " [-2.34025986e+00  2.43366642e+00 -9.39805352e-01 -2.00613780e-01]\n",
      " [-2.67936046e+00  2.13082037e+00 -1.50955435e+00 -3.48343900e-01]\n",
      " [-1.37738556e+00 -8.70759297e-01  1.00098145e+00 -3.77731236e+00]\n",
      " [-2.73231156e+00  2.03728730e+00 -1.39480519e+00 -7.87556386e-01]\n",
      " [-2.52519849e+00  3.12098266e+00 -1.08023381e+00  2.16320972e-01]\n",
      " [-2.26974017e+00  2.34831576e+00 -1.24613442e+00 -3.13848721e-01]\n",
      " [-2.04532108e+00  3.07594965e+00 -1.20834467e+00  3.89343551e-01]\n",
      " [-2.18787696e+00  2.85648463e+00 -1.27896223e+00  1.63012740e-01]\n",
      " [-3.55709771e+00  3.46675073e+00  8.10868780e-01  8.94311250e-01]\n",
      " [-1.99364680e+00  2.59939654e+00 -4.07633189e-01 -5.81112512e-01]\n",
      " [-2.38383457e+00  3.06167702e+00  9.04453650e-02 -3.76611283e-01]\n",
      " [-2.39765190e+00  3.10823570e+00 -1.11750204e+00  2.88454465e-01]\n",
      " [-1.68024627e+00  3.28482346e+00 -9.30348514e-01 -1.71013858e-01]\n",
      " [-2.36974768e+00  2.75687280e+00 -1.23470076e+00 -5.25284511e-01]\n",
      " [-2.26264885e+00  3.02859155e+00 -8.90844743e-01 -4.14491084e-01]]\n"
     ]
    }
   ],
   "source": [
    "print(Y_sklearn)"
   ]
  },
  {
   "cell_type": "markdown",
   "metadata": {},
   "source": [
    "# LO 5\n",
    "4. From https://finance.yahoo.com download historical data for quote ? from Jan 01, 2013 – May 9, 2018. Load dataset and using column ‘Date’ set index to Pandas DataFrame that contains your data. (Remember first to convert ‘Date’ to DatetimeIndex. Is there an easier way to set time index?) [5 points]\n",
    "\n",
    "5. Take column Adj Close and resample it with weekly frequency from Monday using the mean value of the stock price. [5 points]"
   ]
  },
  {
   "cell_type": "code",
   "execution_count": 57,
   "metadata": {},
   "outputs": [],
   "source": [
    "import pandas_datareader as pdr\n",
    "from datetime import datetime, date"
   ]
  },
  {
   "cell_type": "code",
   "execution_count": 58,
   "metadata": {},
   "outputs": [],
   "source": [
    "def get_stock_data (ticker, start, end):\n",
    "    return pdr.get_data_yahoo(ticker,start,end)"
   ]
  },
  {
   "cell_type": "code",
   "execution_count": 59,
   "metadata": {},
   "outputs": [],
   "source": [
    "start_date=datetime(year=2013, month=1, day=1)\n",
    "end_date=datetime(year=2018, month=5, day=9)"
   ]
  },
  {
   "cell_type": "code",
   "execution_count": 62,
   "metadata": {},
   "outputs": [],
   "source": [
    "stock=get_stock_data('NFLX', start_date, end_date)"
   ]
  },
  {
   "cell_type": "code",
   "execution_count": 63,
   "metadata": {},
   "outputs": [
    {
     "data": {
      "text/html": [
       "<div>\n",
       "<style scoped>\n",
       "    .dataframe tbody tr th:only-of-type {\n",
       "        vertical-align: middle;\n",
       "    }\n",
       "\n",
       "    .dataframe tbody tr th {\n",
       "        vertical-align: top;\n",
       "    }\n",
       "\n",
       "    .dataframe thead th {\n",
       "        text-align: right;\n",
       "    }\n",
       "</style>\n",
       "<table border=\"1\" class=\"dataframe\">\n",
       "  <thead>\n",
       "    <tr style=\"text-align: right;\">\n",
       "      <th></th>\n",
       "      <th>High</th>\n",
       "      <th>Low</th>\n",
       "      <th>Open</th>\n",
       "      <th>Close</th>\n",
       "      <th>Volume</th>\n",
       "      <th>Adj Close</th>\n",
       "    </tr>\n",
       "    <tr>\n",
       "      <th>Date</th>\n",
       "      <th></th>\n",
       "      <th></th>\n",
       "      <th></th>\n",
       "      <th></th>\n",
       "      <th></th>\n",
       "      <th></th>\n",
       "    </tr>\n",
       "  </thead>\n",
       "  <tbody>\n",
       "    <tr>\n",
       "      <th>2013-01-02</th>\n",
       "      <td>13.687143</td>\n",
       "      <td>12.955714</td>\n",
       "      <td>13.601429</td>\n",
       "      <td>13.144286</td>\n",
       "      <td>19431300.0</td>\n",
       "      <td>13.144286</td>\n",
       "    </tr>\n",
       "    <tr>\n",
       "      <th>2013-01-03</th>\n",
       "      <td>13.988571</td>\n",
       "      <td>13.075714</td>\n",
       "      <td>13.138572</td>\n",
       "      <td>13.798572</td>\n",
       "      <td>27912500.0</td>\n",
       "      <td>13.798572</td>\n",
       "    </tr>\n",
       "    <tr>\n",
       "      <th>2013-01-04</th>\n",
       "      <td>13.958571</td>\n",
       "      <td>13.648571</td>\n",
       "      <td>13.791429</td>\n",
       "      <td>13.711429</td>\n",
       "      <td>17761100.0</td>\n",
       "      <td>13.711429</td>\n",
       "    </tr>\n",
       "    <tr>\n",
       "      <th>2013-01-07</th>\n",
       "      <td>14.535714</td>\n",
       "      <td>13.731428</td>\n",
       "      <td>13.770000</td>\n",
       "      <td>14.171429</td>\n",
       "      <td>45550400.0</td>\n",
       "      <td>14.171429</td>\n",
       "    </tr>\n",
       "    <tr>\n",
       "      <th>2013-01-08</th>\n",
       "      <td>14.427143</td>\n",
       "      <td>13.828571</td>\n",
       "      <td>14.287143</td>\n",
       "      <td>13.880000</td>\n",
       "      <td>24714900.0</td>\n",
       "      <td>13.880000</td>\n",
       "    </tr>\n",
       "  </tbody>\n",
       "</table>\n",
       "</div>"
      ],
      "text/plain": [
       "                 High        Low       Open      Close      Volume  Adj Close\n",
       "Date                                                                         \n",
       "2013-01-02  13.687143  12.955714  13.601429  13.144286  19431300.0  13.144286\n",
       "2013-01-03  13.988571  13.075714  13.138572  13.798572  27912500.0  13.798572\n",
       "2013-01-04  13.958571  13.648571  13.791429  13.711429  17761100.0  13.711429\n",
       "2013-01-07  14.535714  13.731428  13.770000  14.171429  45550400.0  14.171429\n",
       "2013-01-08  14.427143  13.828571  14.287143  13.880000  24714900.0  13.880000"
      ]
     },
     "execution_count": 63,
     "metadata": {},
     "output_type": "execute_result"
    }
   ],
   "source": [
    "stock.head()"
   ]
  },
  {
   "cell_type": "code",
   "execution_count": 64,
   "metadata": {},
   "outputs": [
    {
     "data": {
      "text/plain": [
       "High         float64\n",
       "Low          float64\n",
       "Open         float64\n",
       "Close        float64\n",
       "Volume       float64\n",
       "Adj Close    float64\n",
       "dtype: object"
      ]
     },
     "execution_count": 64,
     "metadata": {},
     "output_type": "execute_result"
    }
   ],
   "source": [
    "stock.dtypes"
   ]
  },
  {
   "cell_type": "code",
   "execution_count": 65,
   "metadata": {},
   "outputs": [],
   "source": [
    "stock_adjClose=apple['Adj Close']"
   ]
  },
  {
   "cell_type": "code",
   "execution_count": 66,
   "metadata": {},
   "outputs": [],
   "source": [
    "stock_adjClose=pd.DataFrame(apple['Adj Close'])"
   ]
  },
  {
   "cell_type": "code",
   "execution_count": 67,
   "metadata": {},
   "outputs": [
    {
     "data": {
      "text/html": [
       "<div>\n",
       "<style scoped>\n",
       "    .dataframe tbody tr th:only-of-type {\n",
       "        vertical-align: middle;\n",
       "    }\n",
       "\n",
       "    .dataframe tbody tr th {\n",
       "        vertical-align: top;\n",
       "    }\n",
       "\n",
       "    .dataframe thead th {\n",
       "        text-align: right;\n",
       "    }\n",
       "</style>\n",
       "<table border=\"1\" class=\"dataframe\">\n",
       "  <thead>\n",
       "    <tr style=\"text-align: right;\">\n",
       "      <th></th>\n",
       "      <th>Adj Close</th>\n",
       "    </tr>\n",
       "    <tr>\n",
       "      <th>Date</th>\n",
       "      <th></th>\n",
       "    </tr>\n",
       "  </thead>\n",
       "  <tbody>\n",
       "    <tr>\n",
       "      <th>2013-01-02</th>\n",
       "      <td>13.144286</td>\n",
       "    </tr>\n",
       "    <tr>\n",
       "      <th>2013-01-03</th>\n",
       "      <td>13.798572</td>\n",
       "    </tr>\n",
       "  </tbody>\n",
       "</table>\n",
       "</div>"
      ],
      "text/plain": [
       "            Adj Close\n",
       "Date                 \n",
       "2013-01-02  13.144286\n",
       "2013-01-03  13.798572"
      ]
     },
     "execution_count": 67,
     "metadata": {},
     "output_type": "execute_result"
    }
   ],
   "source": [
    "stock_adjClose.head(2)"
   ]
  },
  {
   "cell_type": "code",
   "execution_count": 68,
   "metadata": {},
   "outputs": [
    {
     "data": {
      "text/plain": [
       "<matplotlib.axes._subplots.AxesSubplot at 0x2ba9e705cf8>"
      ]
     },
     "execution_count": 68,
     "metadata": {},
     "output_type": "execute_result"
    },
    {
     "data": {
      "image/png": "[encoded data removed]",
      "text/plain": [
       "<Figure size 432x288 with 1 Axes>"
      ]
     },
     "metadata": {
      "needs_background": "light"
     },
     "output_type": "display_data"
    }
   ],
   "source": [
    "# first plot it\n",
    "stock_adjClose['Adj Close'].plot()"
   ]
  },
  {
   "cell_type": "code",
   "execution_count": 69,
   "metadata": {},
   "outputs": [],
   "source": [
    "data_weekly=stock['Adj Close'].resample('W-MON').mean()"
   ]
  },
  {
   "cell_type": "code",
   "execution_count": 70,
   "metadata": {},
   "outputs": [],
   "source": [
    "data_weekly=pd.DataFrame(data_weekly)"
   ]
  },
  {
   "cell_type": "code",
   "execution_count": 72,
   "metadata": {},
   "outputs": [
    {
     "data": {
      "text/html": [
       "<div>\n",
       "<style scoped>\n",
       "    .dataframe tbody tr th:only-of-type {\n",
       "        vertical-align: middle;\n",
       "    }\n",
       "\n",
       "    .dataframe tbody tr th {\n",
       "        vertical-align: top;\n",
       "    }\n",
       "\n",
       "    .dataframe thead th {\n",
       "        text-align: right;\n",
       "    }\n",
       "</style>\n",
       "<table border=\"1\" class=\"dataframe\">\n",
       "  <thead>\n",
       "    <tr style=\"text-align: right;\">\n",
       "      <th></th>\n",
       "      <th>Adj Close</th>\n",
       "    </tr>\n",
       "    <tr>\n",
       "      <th>Date</th>\n",
       "      <th></th>\n",
       "    </tr>\n",
       "  </thead>\n",
       "  <tbody>\n",
       "    <tr>\n",
       "      <th>2013-01-07</th>\n",
       "      <td>13.706429</td>\n",
       "    </tr>\n",
       "    <tr>\n",
       "      <th>2013-01-14</th>\n",
       "      <td>14.166000</td>\n",
       "    </tr>\n",
       "    <tr>\n",
       "      <th>2013-01-21</th>\n",
       "      <td>14.144286</td>\n",
       "    </tr>\n",
       "    <tr>\n",
       "      <th>2013-01-28</th>\n",
       "      <td>19.417143</td>\n",
       "    </tr>\n",
       "    <tr>\n",
       "      <th>2013-02-04</th>\n",
       "      <td>24.045714</td>\n",
       "    </tr>\n",
       "  </tbody>\n",
       "</table>\n",
       "</div>"
      ],
      "text/plain": [
       "            Adj Close\n",
       "Date                 \n",
       "2013-01-07  13.706429\n",
       "2013-01-14  14.166000\n",
       "2013-01-21  14.144286\n",
       "2013-01-28  19.417143\n",
       "2013-02-04  24.045714"
      ]
     },
     "execution_count": 72,
     "metadata": {},
     "output_type": "execute_result"
    }
   ],
   "source": [
    "data_weekly.head()"
   ]
  },
  {
   "cell_type": "code",
   "execution_count": 73,
   "metadata": {},
   "outputs": [
    {
     "data": {
      "text/plain": [
       "Text(0.5, 1.0, 'Apple price weekly on Monday')"
      ]
     },
     "execution_count": 73,
     "metadata": {},
     "output_type": "execute_result"
    },
    {
     "data": {
      "image/png": "[encoded data removed]",
      "text/plain": [
       "<Figure size 1080x720 with 1 Axes>"
      ]
     },
     "metadata": {
      "needs_background": "light"
     },
     "output_type": "display_data"
    }
   ],
   "source": [
    "plt.figure(figsize=(15,10))\n",
    "plt.plot(data_weekly['Adj Close'])\n",
    "plt.xlabel('Time period')\n",
    "plt.ylabel('Value')\n",
    "plt.title('Apple price weekly on Monday')"
   ]
  },
  {
   "cell_type": "markdown",
   "metadata": {},
   "source": [
    "# Learning outcome 6 – 10 points\n",
    "6. Using the same data from LO5 calculate the simple daily percentage change in adjusted closing price (Adj Close), add another column to your data frame that will contain the descriptive variable “UP” or “DOWN” that will reflect positive and negative returns respectfully. [5 points]\n",
    "\n",
    "7. Using only Adj Close column resample all values to the end of the month and forward fill any missing values. Calculate the simple monthly percentage changes and compare that number to the proportion of “UP” movements you found in the previous question. [5 points]"
   ]
  },
  {
   "cell_type": "code",
   "execution_count": 74,
   "metadata": {},
   "outputs": [
    {
     "data": {
      "text/html": [
       "<div>\n",
       "<style scoped>\n",
       "    .dataframe tbody tr th:only-of-type {\n",
       "        vertical-align: middle;\n",
       "    }\n",
       "\n",
       "    .dataframe tbody tr th {\n",
       "        vertical-align: top;\n",
       "    }\n",
       "\n",
       "    .dataframe thead th {\n",
       "        text-align: right;\n",
       "    }\n",
       "</style>\n",
       "<table border=\"1\" class=\"dataframe\">\n",
       "  <thead>\n",
       "    <tr style=\"text-align: right;\">\n",
       "      <th></th>\n",
       "      <th>High</th>\n",
       "      <th>Low</th>\n",
       "      <th>Open</th>\n",
       "      <th>Close</th>\n",
       "      <th>Volume</th>\n",
       "      <th>Adj Close</th>\n",
       "    </tr>\n",
       "    <tr>\n",
       "      <th>Date</th>\n",
       "      <th></th>\n",
       "      <th></th>\n",
       "      <th></th>\n",
       "      <th></th>\n",
       "      <th></th>\n",
       "      <th></th>\n",
       "    </tr>\n",
       "  </thead>\n",
       "  <tbody>\n",
       "    <tr>\n",
       "      <th>2013-01-02</th>\n",
       "      <td>13.687143</td>\n",
       "      <td>12.955714</td>\n",
       "      <td>13.601429</td>\n",
       "      <td>13.144286</td>\n",
       "      <td>19431300.0</td>\n",
       "      <td>13.144286</td>\n",
       "    </tr>\n",
       "    <tr>\n",
       "      <th>2013-01-03</th>\n",
       "      <td>13.988571</td>\n",
       "      <td>13.075714</td>\n",
       "      <td>13.138572</td>\n",
       "      <td>13.798572</td>\n",
       "      <td>27912500.0</td>\n",
       "      <td>13.798572</td>\n",
       "    </tr>\n",
       "    <tr>\n",
       "      <th>2013-01-04</th>\n",
       "      <td>13.958571</td>\n",
       "      <td>13.648571</td>\n",
       "      <td>13.791429</td>\n",
       "      <td>13.711429</td>\n",
       "      <td>17761100.0</td>\n",
       "      <td>13.711429</td>\n",
       "    </tr>\n",
       "    <tr>\n",
       "      <th>2013-01-07</th>\n",
       "      <td>14.535714</td>\n",
       "      <td>13.731428</td>\n",
       "      <td>13.770000</td>\n",
       "      <td>14.171429</td>\n",
       "      <td>45550400.0</td>\n",
       "      <td>14.171429</td>\n",
       "    </tr>\n",
       "    <tr>\n",
       "      <th>2013-01-08</th>\n",
       "      <td>14.427143</td>\n",
       "      <td>13.828571</td>\n",
       "      <td>14.287143</td>\n",
       "      <td>13.880000</td>\n",
       "      <td>24714900.0</td>\n",
       "      <td>13.880000</td>\n",
       "    </tr>\n",
       "  </tbody>\n",
       "</table>\n",
       "</div>"
      ],
      "text/plain": [
       "                 High        Low       Open      Close      Volume  Adj Close\n",
       "Date                                                                         \n",
       "2013-01-02  13.687143  12.955714  13.601429  13.144286  19431300.0  13.144286\n",
       "2013-01-03  13.988571  13.075714  13.138572  13.798572  27912500.0  13.798572\n",
       "2013-01-04  13.958571  13.648571  13.791429  13.711429  17761100.0  13.711429\n",
       "2013-01-07  14.535714  13.731428  13.770000  14.171429  45550400.0  14.171429\n",
       "2013-01-08  14.427143  13.828571  14.287143  13.880000  24714900.0  13.880000"
      ]
     },
     "execution_count": 74,
     "metadata": {},
     "output_type": "execute_result"
    }
   ],
   "source": [
    "stock.head()"
   ]
  },
  {
   "cell_type": "code",
   "execution_count": 75,
   "metadata": {},
   "outputs": [],
   "source": [
    "stock['Daily changes']=stock['Adj Close']/stock['Adj Close'].shift(1)-1"
   ]
  },
  {
   "cell_type": "code",
   "execution_count": 76,
   "metadata": {},
   "outputs": [
    {
     "data": {
      "text/html": [
       "<div>\n",
       "<style scoped>\n",
       "    .dataframe tbody tr th:only-of-type {\n",
       "        vertical-align: middle;\n",
       "    }\n",
       "\n",
       "    .dataframe tbody tr th {\n",
       "        vertical-align: top;\n",
       "    }\n",
       "\n",
       "    .dataframe thead th {\n",
       "        text-align: right;\n",
       "    }\n",
       "</style>\n",
       "<table border=\"1\" class=\"dataframe\">\n",
       "  <thead>\n",
       "    <tr style=\"text-align: right;\">\n",
       "      <th></th>\n",
       "      <th>High</th>\n",
       "      <th>Low</th>\n",
       "      <th>Open</th>\n",
       "      <th>Close</th>\n",
       "      <th>Volume</th>\n",
       "      <th>Adj Close</th>\n",
       "      <th>Daily changes</th>\n",
       "    </tr>\n",
       "    <tr>\n",
       "      <th>Date</th>\n",
       "      <th></th>\n",
       "      <th></th>\n",
       "      <th></th>\n",
       "      <th></th>\n",
       "      <th></th>\n",
       "      <th></th>\n",
       "      <th></th>\n",
       "    </tr>\n",
       "  </thead>\n",
       "  <tbody>\n",
       "    <tr>\n",
       "      <th>2013-01-02</th>\n",
       "      <td>13.687143</td>\n",
       "      <td>12.955714</td>\n",
       "      <td>13.601429</td>\n",
       "      <td>13.144286</td>\n",
       "      <td>19431300.0</td>\n",
       "      <td>13.144286</td>\n",
       "      <td>NaN</td>\n",
       "    </tr>\n",
       "    <tr>\n",
       "      <th>2013-01-03</th>\n",
       "      <td>13.988571</td>\n",
       "      <td>13.075714</td>\n",
       "      <td>13.138572</td>\n",
       "      <td>13.798572</td>\n",
       "      <td>27912500.0</td>\n",
       "      <td>13.798572</td>\n",
       "      <td>0.049777</td>\n",
       "    </tr>\n",
       "    <tr>\n",
       "      <th>2013-01-04</th>\n",
       "      <td>13.958571</td>\n",
       "      <td>13.648571</td>\n",
       "      <td>13.791429</td>\n",
       "      <td>13.711429</td>\n",
       "      <td>17761100.0</td>\n",
       "      <td>13.711429</td>\n",
       "      <td>-0.006315</td>\n",
       "    </tr>\n",
       "    <tr>\n",
       "      <th>2013-01-07</th>\n",
       "      <td>14.535714</td>\n",
       "      <td>13.731428</td>\n",
       "      <td>13.770000</td>\n",
       "      <td>14.171429</td>\n",
       "      <td>45550400.0</td>\n",
       "      <td>14.171429</td>\n",
       "      <td>0.033549</td>\n",
       "    </tr>\n",
       "    <tr>\n",
       "      <th>2013-01-08</th>\n",
       "      <td>14.427143</td>\n",
       "      <td>13.828571</td>\n",
       "      <td>14.287143</td>\n",
       "      <td>13.880000</td>\n",
       "      <td>24714900.0</td>\n",
       "      <td>13.880000</td>\n",
       "      <td>-0.020565</td>\n",
       "    </tr>\n",
       "  </tbody>\n",
       "</table>\n",
       "</div>"
      ],
      "text/plain": [
       "                 High        Low       Open      Close      Volume  Adj Close  \\\n",
       "Date                                                                            \n",
       "2013-01-02  13.687143  12.955714  13.601429  13.144286  19431300.0  13.144286   \n",
       "2013-01-03  13.988571  13.075714  13.138572  13.798572  27912500.0  13.798572   \n",
       "2013-01-04  13.958571  13.648571  13.791429  13.711429  17761100.0  13.711429   \n",
       "2013-01-07  14.535714  13.731428  13.770000  14.171429  45550400.0  14.171429   \n",
       "2013-01-08  14.427143  13.828571  14.287143  13.880000  24714900.0  13.880000   \n",
       "\n",
       "            Daily changes  \n",
       "Date                       \n",
       "2013-01-02            NaN  \n",
       "2013-01-03       0.049777  \n",
       "2013-01-04      -0.006315  \n",
       "2013-01-07       0.033549  \n",
       "2013-01-08      -0.020565  "
      ]
     },
     "execution_count": 76,
     "metadata": {},
     "output_type": "execute_result"
    }
   ],
   "source": [
    "stock.head()"
   ]
  },
  {
   "cell_type": "code",
   "execution_count": 77,
   "metadata": {},
   "outputs": [],
   "source": [
    "import math"
   ]
  },
  {
   "cell_type": "code",
   "execution_count": 78,
   "metadata": {},
   "outputs": [],
   "source": [
    "stock['Daily changes']=stock['Daily changes'].fillna(0)\n",
    "def func(stock):\n",
    "    if stock['Daily changes'] == 0:\n",
    "        return 'SAME'\n",
    "    elif stock['Daily changes'] > 0:\n",
    "        return 'UP'\n",
    "    else:\n",
    "        return 'DOWN'"
   ]
  },
  {
   "cell_type": "code",
   "execution_count": 79,
   "metadata": {},
   "outputs": [],
   "source": [
    "stock['Daily RETURNS']=stock.apply(func, axis=1)"
   ]
  },
  {
   "cell_type": "code",
   "execution_count": 80,
   "metadata": {},
   "outputs": [
    {
     "data": {
      "text/html": [
       "<div>\n",
       "<style scoped>\n",
       "    .dataframe tbody tr th:only-of-type {\n",
       "        vertical-align: middle;\n",
       "    }\n",
       "\n",
       "    .dataframe tbody tr th {\n",
       "        vertical-align: top;\n",
       "    }\n",
       "\n",
       "    .dataframe thead th {\n",
       "        text-align: right;\n",
       "    }\n",
       "</style>\n",
       "<table border=\"1\" class=\"dataframe\">\n",
       "  <thead>\n",
       "    <tr style=\"text-align: right;\">\n",
       "      <th></th>\n",
       "      <th>High</th>\n",
       "      <th>Low</th>\n",
       "      <th>Open</th>\n",
       "      <th>Close</th>\n",
       "      <th>Volume</th>\n",
       "      <th>Adj Close</th>\n",
       "      <th>Daily changes</th>\n",
       "      <th>Daily RETURNS</th>\n",
       "    </tr>\n",
       "    <tr>\n",
       "      <th>Date</th>\n",
       "      <th></th>\n",
       "      <th></th>\n",
       "      <th></th>\n",
       "      <th></th>\n",
       "      <th></th>\n",
       "      <th></th>\n",
       "      <th></th>\n",
       "      <th></th>\n",
       "    </tr>\n",
       "  </thead>\n",
       "  <tbody>\n",
       "    <tr>\n",
       "      <th>2013-01-02</th>\n",
       "      <td>13.687143</td>\n",
       "      <td>12.955714</td>\n",
       "      <td>13.601429</td>\n",
       "      <td>13.144286</td>\n",
       "      <td>19431300.0</td>\n",
       "      <td>13.144286</td>\n",
       "      <td>0.000000</td>\n",
       "      <td>SAME</td>\n",
       "    </tr>\n",
       "    <tr>\n",
       "      <th>2013-01-03</th>\n",
       "      <td>13.988571</td>\n",
       "      <td>13.075714</td>\n",
       "      <td>13.138572</td>\n",
       "      <td>13.798572</td>\n",
       "      <td>27912500.0</td>\n",
       "      <td>13.798572</td>\n",
       "      <td>0.049777</td>\n",
       "      <td>UP</td>\n",
       "    </tr>\n",
       "    <tr>\n",
       "      <th>2013-01-04</th>\n",
       "      <td>13.958571</td>\n",
       "      <td>13.648571</td>\n",
       "      <td>13.791429</td>\n",
       "      <td>13.711429</td>\n",
       "      <td>17761100.0</td>\n",
       "      <td>13.711429</td>\n",
       "      <td>-0.006315</td>\n",
       "      <td>DOWN</td>\n",
       "    </tr>\n",
       "    <tr>\n",
       "      <th>2013-01-07</th>\n",
       "      <td>14.535714</td>\n",
       "      <td>13.731428</td>\n",
       "      <td>13.770000</td>\n",
       "      <td>14.171429</td>\n",
       "      <td>45550400.0</td>\n",
       "      <td>14.171429</td>\n",
       "      <td>0.033549</td>\n",
       "      <td>UP</td>\n",
       "    </tr>\n",
       "    <tr>\n",
       "      <th>2013-01-08</th>\n",
       "      <td>14.427143</td>\n",
       "      <td>13.828571</td>\n",
       "      <td>14.287143</td>\n",
       "      <td>13.880000</td>\n",
       "      <td>24714900.0</td>\n",
       "      <td>13.880000</td>\n",
       "      <td>-0.020565</td>\n",
       "      <td>DOWN</td>\n",
       "    </tr>\n",
       "  </tbody>\n",
       "</table>\n",
       "</div>"
      ],
      "text/plain": [
       "                 High        Low       Open      Close      Volume  Adj Close  \\\n",
       "Date                                                                            \n",
       "2013-01-02  13.687143  12.955714  13.601429  13.144286  19431300.0  13.144286   \n",
       "2013-01-03  13.988571  13.075714  13.138572  13.798572  27912500.0  13.798572   \n",
       "2013-01-04  13.958571  13.648571  13.791429  13.711429  17761100.0  13.711429   \n",
       "2013-01-07  14.535714  13.731428  13.770000  14.171429  45550400.0  14.171429   \n",
       "2013-01-08  14.427143  13.828571  14.287143  13.880000  24714900.0  13.880000   \n",
       "\n",
       "            Daily changes Daily RETURNS  \n",
       "Date                                     \n",
       "2013-01-02       0.000000          SAME  \n",
       "2013-01-03       0.049777            UP  \n",
       "2013-01-04      -0.006315          DOWN  \n",
       "2013-01-07       0.033549            UP  \n",
       "2013-01-08      -0.020565          DOWN  "
      ]
     },
     "execution_count": 80,
     "metadata": {},
     "output_type": "execute_result"
    }
   ],
   "source": [
    "stock.head()"
   ]
  },
  {
   "cell_type": "code",
   "execution_count": 81,
   "metadata": {},
   "outputs": [
    {
     "data": {
      "text/plain": [
       "<matplotlib.axes._subplots.AxesSubplot at 0x2ba9e608cc0>"
      ]
     },
     "execution_count": 81,
     "metadata": {},
     "output_type": "execute_result"
    },
    {
     "data": {
      "image/png": "[encoded data removed]",
      "text/plain": [
       "<Figure size 432x288 with 1 Axes>"
      ]
     },
     "metadata": {
      "needs_background": "light"
     },
     "output_type": "display_data"
    }
   ],
   "source": [
    "stock['Daily RETURNS'].value_counts().plot.bar()"
   ]
  },
  {
   "cell_type": "code",
   "execution_count": 82,
   "metadata": {},
   "outputs": [],
   "source": [
    "stock_monthly=stock['Adj Close'].asfreq('M').ffill()"
   ]
  },
  {
   "cell_type": "code",
   "execution_count": 83,
   "metadata": {},
   "outputs": [],
   "source": [
    "stock_monthly=pd.DataFrame(stock_monthly)"
   ]
  },
  {
   "cell_type": "code",
   "execution_count": 84,
   "metadata": {},
   "outputs": [
    {
     "data": {
      "text/html": [
       "<div>\n",
       "<style scoped>\n",
       "    .dataframe tbody tr th:only-of-type {\n",
       "        vertical-align: middle;\n",
       "    }\n",
       "\n",
       "    .dataframe tbody tr th {\n",
       "        vertical-align: top;\n",
       "    }\n",
       "\n",
       "    .dataframe thead th {\n",
       "        text-align: right;\n",
       "    }\n",
       "</style>\n",
       "<table border=\"1\" class=\"dataframe\">\n",
       "  <thead>\n",
       "    <tr style=\"text-align: right;\">\n",
       "      <th></th>\n",
       "      <th>Adj Close</th>\n",
       "    </tr>\n",
       "    <tr>\n",
       "      <th>Date</th>\n",
       "      <th></th>\n",
       "    </tr>\n",
       "  </thead>\n",
       "  <tbody>\n",
       "    <tr>\n",
       "      <th>2013-01-31</th>\n",
       "      <td>23.605715</td>\n",
       "    </tr>\n",
       "    <tr>\n",
       "      <th>2013-02-28</th>\n",
       "      <td>26.868572</td>\n",
       "    </tr>\n",
       "    <tr>\n",
       "      <th>2013-03-31</th>\n",
       "      <td>26.868572</td>\n",
       "    </tr>\n",
       "    <tr>\n",
       "      <th>2013-04-30</th>\n",
       "      <td>30.867144</td>\n",
       "    </tr>\n",
       "    <tr>\n",
       "      <th>2013-05-31</th>\n",
       "      <td>32.321430</td>\n",
       "    </tr>\n",
       "  </tbody>\n",
       "</table>\n",
       "</div>"
      ],
      "text/plain": [
       "            Adj Close\n",
       "Date                 \n",
       "2013-01-31  23.605715\n",
       "2013-02-28  26.868572\n",
       "2013-03-31  26.868572\n",
       "2013-04-30  30.867144\n",
       "2013-05-31  32.321430"
      ]
     },
     "execution_count": 84,
     "metadata": {},
     "output_type": "execute_result"
    }
   ],
   "source": [
    "stock_monthly.head()"
   ]
  },
  {
   "cell_type": "markdown",
   "metadata": {},
   "source": [
    "Calculate the simple monthly percentage changes and compare that number to the proportion of “UP” movements you found in the previous question. "
   ]
  },
  {
   "cell_type": "code",
   "execution_count": 85,
   "metadata": {},
   "outputs": [],
   "source": [
    "stock_monthly['Monthly changes']=stock_monthly/stock_monthly.shift(1)-1"
   ]
  },
  {
   "cell_type": "code",
   "execution_count": 86,
   "metadata": {},
   "outputs": [
    {
     "data": {
      "text/html": [
       "<div>\n",
       "<style scoped>\n",
       "    .dataframe tbody tr th:only-of-type {\n",
       "        vertical-align: middle;\n",
       "    }\n",
       "\n",
       "    .dataframe tbody tr th {\n",
       "        vertical-align: top;\n",
       "    }\n",
       "\n",
       "    .dataframe thead th {\n",
       "        text-align: right;\n",
       "    }\n",
       "</style>\n",
       "<table border=\"1\" class=\"dataframe\">\n",
       "  <thead>\n",
       "    <tr style=\"text-align: right;\">\n",
       "      <th></th>\n",
       "      <th>Adj Close</th>\n",
       "      <th>Monthly changes</th>\n",
       "    </tr>\n",
       "    <tr>\n",
       "      <th>Date</th>\n",
       "      <th></th>\n",
       "      <th></th>\n",
       "    </tr>\n",
       "  </thead>\n",
       "  <tbody>\n",
       "    <tr>\n",
       "      <th>2013-01-31</th>\n",
       "      <td>23.605715</td>\n",
       "      <td>NaN</td>\n",
       "    </tr>\n",
       "    <tr>\n",
       "      <th>2013-02-28</th>\n",
       "      <td>26.868572</td>\n",
       "      <td>0.138223</td>\n",
       "    </tr>\n",
       "    <tr>\n",
       "      <th>2013-03-31</th>\n",
       "      <td>26.868572</td>\n",
       "      <td>0.000000</td>\n",
       "    </tr>\n",
       "    <tr>\n",
       "      <th>2013-04-30</th>\n",
       "      <td>30.867144</td>\n",
       "      <td>0.148820</td>\n",
       "    </tr>\n",
       "    <tr>\n",
       "      <th>2013-05-31</th>\n",
       "      <td>32.321430</td>\n",
       "      <td>0.047114</td>\n",
       "    </tr>\n",
       "  </tbody>\n",
       "</table>\n",
       "</div>"
      ],
      "text/plain": [
       "            Adj Close  Monthly changes\n",
       "Date                                  \n",
       "2013-01-31  23.605715              NaN\n",
       "2013-02-28  26.868572         0.138223\n",
       "2013-03-31  26.868572         0.000000\n",
       "2013-04-30  30.867144         0.148820\n",
       "2013-05-31  32.321430         0.047114"
      ]
     },
     "execution_count": 86,
     "metadata": {},
     "output_type": "execute_result"
    }
   ],
   "source": [
    "stock_monthly.head()"
   ]
  },
  {
   "cell_type": "code",
   "execution_count": 87,
   "metadata": {},
   "outputs": [],
   "source": [
    "stock_monthly['Monthly changes']=stock_monthly['Monthly changes'].fillna(0)"
   ]
  },
  {
   "cell_type": "code",
   "execution_count": 88,
   "metadata": {},
   "outputs": [],
   "source": [
    "def func(stock_monthly):\n",
    "    if stock_monthly['Monthly changes'] == 0:\n",
    "        return 'SAME'\n",
    "    elif stock_monthly['Monthly changes'] > 0:\n",
    "        return 'UP'\n",
    "    else:\n",
    "        return 'DOWN'"
   ]
  },
  {
   "cell_type": "code",
   "execution_count": 89,
   "metadata": {},
   "outputs": [
    {
     "data": {
      "text/html": [
       "<div>\n",
       "<style scoped>\n",
       "    .dataframe tbody tr th:only-of-type {\n",
       "        vertical-align: middle;\n",
       "    }\n",
       "\n",
       "    .dataframe tbody tr th {\n",
       "        vertical-align: top;\n",
       "    }\n",
       "\n",
       "    .dataframe thead th {\n",
       "        text-align: right;\n",
       "    }\n",
       "</style>\n",
       "<table border=\"1\" class=\"dataframe\">\n",
       "  <thead>\n",
       "    <tr style=\"text-align: right;\">\n",
       "      <th></th>\n",
       "      <th>Adj Close</th>\n",
       "      <th>Monthly changes</th>\n",
       "    </tr>\n",
       "    <tr>\n",
       "      <th>Date</th>\n",
       "      <th></th>\n",
       "      <th></th>\n",
       "    </tr>\n",
       "  </thead>\n",
       "  <tbody>\n",
       "    <tr>\n",
       "      <th>2013-01-31</th>\n",
       "      <td>23.605715</td>\n",
       "      <td>0.000000</td>\n",
       "    </tr>\n",
       "    <tr>\n",
       "      <th>2013-02-28</th>\n",
       "      <td>26.868572</td>\n",
       "      <td>0.138223</td>\n",
       "    </tr>\n",
       "    <tr>\n",
       "      <th>2013-03-31</th>\n",
       "      <td>26.868572</td>\n",
       "      <td>0.000000</td>\n",
       "    </tr>\n",
       "    <tr>\n",
       "      <th>2013-04-30</th>\n",
       "      <td>30.867144</td>\n",
       "      <td>0.148820</td>\n",
       "    </tr>\n",
       "    <tr>\n",
       "      <th>2013-05-31</th>\n",
       "      <td>32.321430</td>\n",
       "      <td>0.047114</td>\n",
       "    </tr>\n",
       "  </tbody>\n",
       "</table>\n",
       "</div>"
      ],
      "text/plain": [
       "            Adj Close  Monthly changes\n",
       "Date                                  \n",
       "2013-01-31  23.605715         0.000000\n",
       "2013-02-28  26.868572         0.138223\n",
       "2013-03-31  26.868572         0.000000\n",
       "2013-04-30  30.867144         0.148820\n",
       "2013-05-31  32.321430         0.047114"
      ]
     },
     "execution_count": 89,
     "metadata": {},
     "output_type": "execute_result"
    }
   ],
   "source": [
    "stock_monthly.head()"
   ]
  },
  {
   "cell_type": "code",
   "execution_count": 90,
   "metadata": {},
   "outputs": [],
   "source": [
    "stock_monthly['Monthly RETURN']=stock_monthly.apply(func, axis=1)"
   ]
  },
  {
   "cell_type": "code",
   "execution_count": 91,
   "metadata": {},
   "outputs": [
    {
     "data": {
      "text/html": [
       "<div>\n",
       "<style scoped>\n",
       "    .dataframe tbody tr th:only-of-type {\n",
       "        vertical-align: middle;\n",
       "    }\n",
       "\n",
       "    .dataframe tbody tr th {\n",
       "        vertical-align: top;\n",
       "    }\n",
       "\n",
       "    .dataframe thead th {\n",
       "        text-align: right;\n",
       "    }\n",
       "</style>\n",
       "<table border=\"1\" class=\"dataframe\">\n",
       "  <thead>\n",
       "    <tr style=\"text-align: right;\">\n",
       "      <th></th>\n",
       "      <th>Adj Close</th>\n",
       "      <th>Monthly changes</th>\n",
       "      <th>Monthly RETURN</th>\n",
       "    </tr>\n",
       "    <tr>\n",
       "      <th>Date</th>\n",
       "      <th></th>\n",
       "      <th></th>\n",
       "      <th></th>\n",
       "    </tr>\n",
       "  </thead>\n",
       "  <tbody>\n",
       "    <tr>\n",
       "      <th>2013-01-31</th>\n",
       "      <td>23.605715</td>\n",
       "      <td>0.000000</td>\n",
       "      <td>SAME</td>\n",
       "    </tr>\n",
       "    <tr>\n",
       "      <th>2013-02-28</th>\n",
       "      <td>26.868572</td>\n",
       "      <td>0.138223</td>\n",
       "      <td>UP</td>\n",
       "    </tr>\n",
       "    <tr>\n",
       "      <th>2013-03-31</th>\n",
       "      <td>26.868572</td>\n",
       "      <td>0.000000</td>\n",
       "      <td>SAME</td>\n",
       "    </tr>\n",
       "    <tr>\n",
       "      <th>2013-04-30</th>\n",
       "      <td>30.867144</td>\n",
       "      <td>0.148820</td>\n",
       "      <td>UP</td>\n",
       "    </tr>\n",
       "    <tr>\n",
       "      <th>2013-05-31</th>\n",
       "      <td>32.321430</td>\n",
       "      <td>0.047114</td>\n",
       "      <td>UP</td>\n",
       "    </tr>\n",
       "  </tbody>\n",
       "</table>\n",
       "</div>"
      ],
      "text/plain": [
       "            Adj Close  Monthly changes Monthly RETURN\n",
       "Date                                                 \n",
       "2013-01-31  23.605715         0.000000           SAME\n",
       "2013-02-28  26.868572         0.138223             UP\n",
       "2013-03-31  26.868572         0.000000           SAME\n",
       "2013-04-30  30.867144         0.148820             UP\n",
       "2013-05-31  32.321430         0.047114             UP"
      ]
     },
     "execution_count": 91,
     "metadata": {},
     "output_type": "execute_result"
    }
   ],
   "source": [
    "stock_monthly.head()"
   ]
  },
  {
   "cell_type": "code",
   "execution_count": 92,
   "metadata": {},
   "outputs": [
    {
     "data": {
      "text/plain": [
       "<matplotlib.axes._subplots.AxesSubplot at 0x2ba9e6dccf8>"
      ]
     },
     "execution_count": 92,
     "metadata": {},
     "output_type": "execute_result"
    },
    {
     "data": {
      "image/png": "[encoded data removed]",
      "text/plain": [
       "<Figure size 432x288 with 1 Axes>"
      ]
     },
     "metadata": {
      "needs_background": "light"
     },
     "output_type": "display_data"
    }
   ],
   "source": [
    "stock_monthly['Monthly RETURN'].value_counts().plot.bar()"
   ]
  },
  {
   "cell_type": "code",
   "execution_count": 93,
   "metadata": {},
   "outputs": [
    {
     "data": {
      "text/plain": [
       "UP      690\n",
       "DOWN    655\n",
       "SAME      3\n",
       "Name: Daily RETURNS, dtype: int64"
      ]
     },
     "execution_count": 93,
     "metadata": {},
     "output_type": "execute_result"
    }
   ],
   "source": [
    "stock['Daily RETURNS'].value_counts()"
   ]
  },
  {
   "cell_type": "code",
   "execution_count": 94,
   "metadata": {},
   "outputs": [
    {
     "data": {
      "text/plain": [
       "UP      31\n",
       "SAME    20\n",
       "DOWN    13\n",
       "Name: Monthly RETURN, dtype: int64"
      ]
     },
     "execution_count": 94,
     "metadata": {},
     "output_type": "execute_result"
    }
   ],
   "source": [
    "stock_monthly['Monthly RETURN'].value_counts()"
   ]
  },
  {
   "cell_type": "code",
   "execution_count": 95,
   "metadata": {},
   "outputs": [
    {
     "name": "stdout",
     "output_type": "stream",
     "text": [
      "Percentage UP on daily :  51.18694362017804 %\n",
      "Percentage UP on monthly :  48.4375 %\n"
     ]
    }
   ],
   "source": [
    "print('Percentage UP on daily : ', 690/(690+655+3)*100,'%')\n",
    "print('Percentage UP on monthly : ', 31/(31+20+13)*100,'%')"
   ]
  },
  {
   "cell_type": "code",
   "execution_count": null,
   "metadata": {},
   "outputs": [],
   "source": []
  }
 ],
 "metadata": {
  "kernelspec": {
   "display_name": "Python 3",
   "language": "python",
   "name": "python3"
  },
  "language_info": {
   "codemirror_mode": {
    "name": "ipython",
    "version": 3
   },
   "file_extension": ".py",
   "mimetype": "text/x-python",
   "name": "python",
   "nbconvert_exporter": "python",
   "pygments_lexer": "ipython3",
   "version": "3.7.3"
  }
 },
 "nbformat": 4,
 "nbformat_minor": 2
}
